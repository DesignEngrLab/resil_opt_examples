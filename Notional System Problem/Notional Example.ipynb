{
 "cells": [
  {
   "cell_type": "markdown",
   "metadata": {},
   "source": [
    "# Notional Example Problem\n",
    "\n",
    "An analytic problem for understanding resilience optimization structures."
   ]
  },
  {
   "cell_type": "code",
   "execution_count": 1,
   "metadata": {},
   "outputs": [],
   "source": [
    "import sys\n",
    "sys.path.append('../')\n",
    "import numpy as np\n",
    "import scipy as sp\n",
    "import time\n",
    "import itertools\n",
    "import random\n",
    "import matplotlib.pyplot as plt\n",
    "import pandas as pd\n",
    "from scipy.optimize import minimize\n",
    "from scipy.optimize import NonlinearConstraint"
   ]
  },
  {
   "cell_type": "markdown",
   "metadata": {},
   "source": [
    "This problem considers different architectures to structure the optimization of resilience. In general, the resilience of a system is a function of the performance curve which results from a given hazardous scenario. Consider, for example, the curve shown below, where a fault causes the system to perform in a worse condition (given by $x_a$) for a given amount of time $x_b$, before it is recovered over a given amount of time $x_c$.\n",
    "\n",
    "<h3 align=\"center\">System Resilience to Considered Fault Scenario</h3> \n",
    "\n",
    "![Resilience of the System to Fault](notionalsystem.png)"
   ]
  },
  {
   "cell_type": "markdown",
   "metadata": {},
   "source": [
    "In an integrated resilience optimization formulation of this problem, the goal is to optimize the design/operations of the system with the resilience variables simultaneously to balance the resilience of the system with design/operational considerations. This involves (at least) two models of cost: design/operational cost and resilience cost."
   ]
  },
  {
   "cell_type": "markdown",
   "metadata": {},
   "source": [
    "## Design/Operational Cost\n",
    "\n",
    "The design model specifies the inherent resilience in the system that results from the way it was designed/is operated when there is no hazardous scenario. In this model, the variables are $x_p$, the overall performance of the system, $x_a$, the lost performance during the scenario, $x_s$, the slack in the system, and $x_r$, the hazard rate. The terms a-f and n are constants."
   ]
  },
  {
   "cell_type": "code",
   "execution_count": 2,
   "metadata": {},
   "outputs": [],
   "source": [
    "xdes = [1,0.5,1e-4,0.5]\n",
    "xdb = ((1e-6,100),(0,2),(1e-10,100),(0,2))\n",
    "# xdes = [x_p, x_a, x_r, x_s]\n",
    "# index:   0    1    2    3\n",
    "# constants: [a,b,c,n,d,e,f]\n",
    "# inds:       0,1,2,3,4,5,6\n",
    "const =[1e6,5e5,100,1e5,50,50,20]"
   ]
  },
  {
   "cell_type": "markdown",
   "metadata": {},
   "source": [
    "The Design/Operational cost model for this system is: $C_D = - a \\sqrt{x_a + 0.1} -b \\sqrt{ x_s +0.1} + \\frac{c}{x_r}$ \n",
    "\n",
    "The terms in the cost model captures the value of having increased performance, the waste of running the system with excess slack, and the cost of maintaining the system at a certain level of reliability."
   ]
  },
  {
   "cell_type": "code",
   "execution_count": 3,
   "metadata": {},
   "outputs": [],
   "source": [
    "def des_cost(xdes,const):\n",
    "    return  - const[0]*np.sqrt(xdes[1] + 0.1) - const[1]* np.sqrt(xdes[3] +0.1) + const[2]/max(xdes[2], 1e-6)"
   ]
  },
  {
   "cell_type": "markdown",
   "metadata": {},
   "source": [
    "Subject to the equality constraint: $h_D = x_p -(x_s + x_a) = 0$, which captures the relationship between slack, performance, and lost performance during the scenario."
   ]
  },
  {
   "cell_type": "code",
   "execution_count": 4,
   "metadata": {},
   "outputs": [],
   "source": [
    "def des_h_const(xdes):\n",
    "    return xdes[0]-(xdes[3]+xdes[1])"
   ]
  },
  {
   "cell_type": "markdown",
   "metadata": {},
   "source": [
    "There is also an inequality constraint: $g_D = (x_p-1)^2/c - x_r$, which specifies a lower bound on how reliable the system can be when performance deviates from the target needed for peak reliability."
   ]
  },
  {
   "cell_type": "code",
   "execution_count": 5,
   "metadata": {},
   "outputs": [],
   "source": [
    "def des_g_const(xdes):\n",
    "    return (xdes[0]-1)**2/const[2] - xdes[2]"
   ]
  },
  {
   "cell_type": "markdown",
   "metadata": {},
   "source": [
    "## Resilience Model\n",
    "\n",
    "The resilience model specifies how the system performes in the hazardous scenario(s) based on variables which may be leveraged during this scenario. In this system, there are two variables--$x_b$, the length of time the system stays in the hazardous scenario before it is repaired, and $x_c$, the length of time it takes to repair the system."
   ]
  },
  {
   "cell_type": "code",
   "execution_count": 6,
   "metadata": {},
   "outputs": [],
   "source": [
    "xres = [1,  1]\n",
    "#ind:   0   1\n",
    "#full:  4   5\n",
    "#lab:   x_b,x_c\n",
    "xrb = ((1e-6,100), (1e-6,100))"
   ]
  },
  {
   "cell_type": "markdown",
   "metadata": {},
   "source": [
    "In this system, the resilience model is specified with a cost function:\n",
    "\n",
    "$C_R = x_r*n*(d*x_a*(x_b+x_c/2) + e/x_c + f/x_b))$\n",
    "\n",
    "which considers the cost as a function of the area between the nominal performance and the resilience curve (the cost of the hazard's direct consequences), along with a cost of short recovery time and a cost of short repair time (the cost of restoring the system to nominal performance at a certain speed)."
   ]
  },
  {
   "cell_type": "code",
   "execution_count": 7,
   "metadata": {},
   "outputs": [],
   "source": [
    "def res_cost(xres,xdes,const):\n",
    "    return xdes[2] * const[3] * (const[4]*xdes[1]*((xres[0]+xres[1]/2) + const[5]/max(xres[1],1e-6))+const[6]/max(xres[0],1e-6))"
   ]
  },
  {
   "cell_type": "markdown",
   "metadata": {},
   "source": [
    "## Optimization Architectures"
   ]
  },
  {
   "cell_type": "markdown",
   "metadata": {},
   "source": [
    "This problem can be solved using a number of solution architectures. This section presents and compares the all-at-once, bilevel, and alternating optimization structures.\n",
    "\n",
    "\n",
    "<h3 align=\"center\">All-at-once Architecture</h3> \n",
    "\n",
    "![All-at-once Architecture](allatonce.png)\n",
    "\n",
    "The all-at-once architecture is an optimization strategy where the entire problem is solved in a single *monolithic* formulation, with the overall objective $C = C_D + C_R$"
   ]
  },
  {
   "cell_type": "code",
   "execution_count": 8,
   "metadata": {},
   "outputs": [],
   "source": [
    "def x_to_totcost_mono(x, const):\n",
    "    return des_cost(x, const) + res_cost(x[4:],x, const)"
   ]
  },
  {
   "cell_type": "code",
   "execution_count": 9,
   "metadata": {},
   "outputs": [],
   "source": [
    "#used to keep track of optimization progress\n",
    "history = []\n",
    "def callbackF(Xdes, result):\n",
    "    history.append(result['fun'])"
   ]
  },
  {
   "cell_type": "markdown",
   "metadata": {},
   "source": [
    "Below, the trust-region constrained algorithm is used to optimize this problem. As implemented, the algorithm does not reach a convergence criteria and instead finishes after reaching the maximum number of steps (1000)"
   ]
  },
  {
   "cell_type": "code",
   "execution_count": 10,
   "metadata": {},
   "outputs": [
    {
     "name": "stdout",
     "output_type": "stream",
     "text": [
      "| niter |f evals|CG iter|  obj func   |tr radius |   opt    |  c viol  |\n",
      "|-------|-------|-------|-------------|----------|----------|----------|\n",
      "|   1   |   7   |   0   | -1.4882e+05 | 1.00e+00 | 3.29e+09 | 0.00e+00 |\n",
      "|   2   |  14   |   1   | -1.4882e+05 | 5.00e-01 | 3.29e+09 | 0.00e+00 |\n",
      "|   3   |  21   |   2   | -1.4882e+05 | 2.50e-01 | 3.29e+09 | 0.00e+00 |\n",
      "|   4   |  28   |   3   | -1.4882e+05 | 1.25e-01 | 3.29e+09 | 0.00e+00 |\n",
      "|   5   |  35   |   4   | -1.4882e+05 | 6.25e-02 | 3.29e+09 | 0.00e+00 |\n",
      "|   6   |  42   |   5   | -1.4882e+05 | 3.12e-02 | 3.29e+09 | 0.00e+00 |\n",
      "|   7   |  49   |   6   | -1.4882e+05 | 1.56e-02 | 3.29e+09 | 0.00e+00 |\n",
      "|   8   |  56   |   7   | -4.2813e+05 | 1.56e-02 | 4.28e+07 | 4.10e-05 |\n",
      "|   9   |  63   |   8   | -4.2813e+05 | 1.56e-03 | 4.28e+07 | 4.10e-05 |\n",
      "|  10   |  70   |   9   | -4.9766e+05 | 1.09e-02 | 4.25e+07 | 4.52e-05 |\n",
      "|  11   |  77   |  10   | -9.2738e+05 | 2.19e-02 | 1.58e+07 | 7.41e-05 |\n",
      "|  12   |  84   |  15   | -9.2738e+05 | 2.19e-03 | 1.58e+07 | 7.41e-05 |\n",
      "|  13   |  91   |  16   | -9.2738e+05 | 4.68e-04 | 1.58e+07 | 7.41e-05 |\n",
      "|  14   |  98   |  17   | -9.3274e+05 | 9.37e-04 | 5.19e+06 | 7.53e-05 |\n",
      "|  15   |  105  |  20   | -9.3303e+05 | 6.56e-03 | 4.21e+06 | 7.78e-05 |\n",
      "|  16   |  112  |  25   | -9.3417e+05 | 4.59e-02 | 2.43e+06 | 9.52e-05 |\n",
      "|  17   |  119  |  30   | -9.3471e+05 | 2.58e-01 | 4.97e+06 | 2.17e-04 |\n",
      "|  18   |  126  |  35   | -9.3739e+05 | 1.45e+00 | 1.32e+07 | 9.17e-04 |\n",
      "|  19   |  133  |  36   | +8.3119e+06 | 1.02e+01 | 4.64e+06 | 3.64e-04 |\n",
      "|  20   |  140  |  41   | +6.2947e+06 | 1.02e+01 | 3.51e+06 | 5.33e-15 |\n",
      "|  21   |  147  |  46   | -4.0474e+05 | 1.02e+01 | 3.22e+05 | 1.22e-15 |\n",
      "|  22   |  154  |  51   | -6.0544e+05 | 1.02e+01 | 3.74e+04 | 4.44e-16 |\n",
      "|  23   |  161  |  56   | -8.0540e+05 | 1.02e+01 | 6.08e+04 | 1.53e-13 |\n",
      "|  24   |  168  |  61   | -8.2738e+05 | 1.02e+01 | 6.03e+04 | 1.33e-15 |\n",
      "|  25   |  175  |  66   | -9.1003e+05 | 1.02e+01 | 6.79e+04 | 2.33e-15 |\n",
      "|  26   |  182  |  71   | -9.7779e+05 | 1.02e+01 | 5.45e+04 | 4.00e-15 |\n",
      "|  27   |  189  |  76   | -1.0170e+06 | 1.02e+01 | 4.70e+04 | 3.11e-15 |\n",
      "|  28   |  196  |  81   | -1.0398e+06 | 1.02e+01 | 4.91e+04 | 3.18e-14 |\n",
      "|  29   |  203  |  86   | -1.0593e+06 | 1.02e+01 | 6.08e+04 | 6.85e-06 |\n",
      "|  30   |  210  |  91   | -1.0613e+06 | 1.02e+01 | 6.69e+04 | 1.83e-06 |\n",
      "|  31   |  217  |  95   | -1.0616e+06 | 1.02e+01 | 7.01e+04 | 4.54e-07 |\n",
      "|  32   |  224  |  99   | -1.0616e+06 | 1.02e+01 | 7.10e+04 | 0.00e+00 |\n",
      "|  33   |  231  |  103  | -1.0616e+06 | 1.02e+01 | 7.12e+04 | 0.00e+00 |\n",
      "|  34   |  238  |  107  | -1.0616e+06 | 1.02e+01 | 7.14e+04 | 2.22e-16 |\n",
      "|  35   |  245  |  111  | -1.0616e+06 | 1.02e+01 | 7.18e+04 | 2.22e-16 |\n",
      "|  36   |  252  |  115  | -1.0617e+06 | 1.02e+01 | 7.26e+04 | 2.22e-16 |\n",
      "|  37   |  259  |  119  | -1.0619e+06 | 1.02e+01 | 7.39e+04 | 3.27e-08 |\n",
      "|  38   |  266  |  123  | -1.0626e+06 | 1.02e+01 | 7.60e+04 | 2.96e-07 |\n",
      "|  39   |  273  |  127  | -1.0643e+06 | 1.02e+01 | 7.89e+04 | 1.10e-06 |\n",
      "|  40   |  280  |  131  | -1.0686e+06 | 1.02e+01 | 8.20e+04 | 3.43e-06 |\n",
      "|  41   |  287  |  135  | -1.0786e+06 | 1.02e+01 | 8.26e+04 | 8.94e-06 |\n",
      "|  42   |  294  |  139  | -1.0960e+06 | 1.02e+01 | 7.62e+04 | 1.63e-05 |\n",
      "|  43   |  301  |  143  | -1.1175e+06 | 1.02e+01 | 6.29e+04 | 1.82e-05 |\n",
      "|  44   |  308  |  147  | -1.1382e+06 | 1.02e+01 | 4.77e+04 | 1.36e-05 |\n",
      "|  45   |  315  |  151  | -1.1558e+06 | 1.02e+01 | 3.41e+04 | 6.99e-06 |\n",
      "|  46   |  322  |  155  | -1.1703e+06 | 1.02e+01 | 2.31e+04 | 1.61e-06 |\n",
      "|  47   |  329  |  159  | -1.1820e+06 | 1.02e+01 | 1.62e+04 | 4.40e-08 |\n",
      "|  48   |  336  |  163  | -1.1905e+06 | 1.02e+01 | 1.77e+04 | 4.50e-06 |\n",
      "|  49   |  343  |  168  | -1.1937e+06 | 1.02e+01 | 1.88e+04 | 6.21e-06 |\n",
      "|  50   |  350  |  172  | -1.1939e+06 | 1.02e+01 | 1.93e+04 | 1.29e-06 |\n",
      "|  51   |  357  |  176  | -1.1939e+06 | 1.02e+01 | 1.94e+04 | 6.66e-16 |\n",
      "|  52   |  364  |  180  | -1.1939e+06 | 1.02e+01 | 1.94e+04 | 2.22e-16 |\n",
      "|  53   |  371  |  184  | -1.1939e+06 | 1.02e+01 | 1.94e+04 | 2.22e-16 |\n",
      "|  54   |  378  |  188  | -1.1939e+06 | 1.02e+01 | 1.94e+04 | 2.22e-16 |\n",
      "|  55   |  385  |  192  | -1.1939e+06 | 1.02e+01 | 1.94e+04 | 8.88e-16 |\n"
     ]
    },
    {
     "name": "stderr",
     "output_type": "stream",
     "text": [
      "C:\\Users\\dhulse\\Anaconda3\\lib\\site-packages\\scipy\\optimize\\_hessian_update_strategy.py:182: UserWarning: delta_grad == 0.0. Check if the approximated function is linear. If the function is linear better results can be obtained by defining the Hessian as zero instead of using quasi-Newton approximations.\n",
      "  warn('delta_grad == 0.0. Check if the approximated '\n"
     ]
    },
    {
     "name": "stdout",
     "output_type": "stream",
     "text": [
      "|  56   |  392  |  196  | -1.1939e+06 | 1.02e+01 | 1.94e+04 | 0.00e+00 |\n",
      "|  57   |  399  |  200  | -1.1939e+06 | 1.02e+01 | 1.93e+04 | 4.44e-16 |\n",
      "|  58   |  406  |  205  | -1.1940e+06 | 1.02e+01 | 1.93e+04 | 2.00e-15 |\n",
      "|  59   |  413  |  210  | -1.1941e+06 | 1.02e+01 | 1.91e+04 | 2.00e-15 |\n",
      "|  60   |  420  |  215  | -1.1943e+06 | 1.02e+01 | 1.88e+04 | 8.88e-15 |\n",
      "|  61   |  427  |  220  | -1.1951e+06 | 1.02e+01 | 1.82e+04 | 8.04e-14 |\n",
      "|  62   |  434  |  225  | -1.1971e+06 | 1.02e+01 | 1.68e+04 | 1.44e-07 |\n",
      "|  63   |  441  |  230  | -1.2024e+06 | 1.02e+01 | 1.31e+04 | 1.20e-06 |\n",
      "|  64   |  448  |  235  | -1.2141e+06 | 1.02e+01 | 1.25e+04 | 5.31e-06 |\n",
      "|  65   |  455  |  240  | -1.2223e+06 | 1.02e+01 | 8.66e+03 | 4.68e-06 |\n",
      "|  66   |  462  |  245  | -1.2242e+06 | 1.02e+01 | 8.59e+03 | 0.00e+00 |\n",
      "|  67   |  469  |  250  | -1.2252e+06 | 1.02e+01 | 8.49e+03 | 2.31e-10 |\n",
      "|  68   |  476  |  255  | -1.2254e+06 | 1.02e+01 | 8.20e+03 | 3.56e-07 |\n",
      "|  69   |  483  |  260  | -1.2254e+06 | 1.02e+01 | 8.17e+03 | 2.22e-16 |\n",
      "|  70   |  490  |  263  | -1.2254e+06 | 1.02e+01 | 8.17e+03 | 8.31e-12 |\n",
      "|  71   |  497  |  264  | -1.2254e+06 | 1.02e+01 | 8.17e+03 | 1.33e-15 |\n",
      "|  72   |  504  |  265  | -1.2254e+06 | 1.02e+01 | 8.17e+03 | 0.00e+00 |\n",
      "|  73   |  511  |  269  | -1.2454e+06 | 2.07e+01 | 6.83e+03 | 1.98e-06 |\n",
      "|  74   |  525  |  273  | -1.2454e+06 | 2.07e+00 | 6.83e+03 | 1.98e-06 |\n",
      "|  75   |  532  |  278  | -1.2462e+06 | 2.07e+00 | 7.28e+03 | 3.76e-07 |\n",
      "|  76   |  539  |  282  | -1.2464e+06 | 2.07e+00 | 7.46e+03 | 2.92e-08 |\n",
      "|  77   |  546  |  286  | -1.2465e+06 | 2.07e+00 | 7.64e+03 | 4.92e-08 |\n",
      "|  78   |  553  |  290  | -1.2465e+06 | 2.07e+00 | 7.67e+03 | 2.22e-16 |\n",
      "|  79   |  560  |  294  | -1.2465e+06 | 2.07e+00 | 7.73e+03 | 2.22e-16 |\n",
      "|  80   |  567  |  298  | -1.2466e+06 | 2.07e+00 | 7.80e+03 | 4.44e-16 |\n",
      "|  81   |  574  |  302  | -1.2469e+06 | 2.07e+00 | 7.89e+03 | 5.71e-08 |\n",
      "|  82   |  581  |  306  | -1.2477e+06 | 3.15e+00 | 7.82e+03 | 1.79e-07 |\n",
      "|  83   |  588  |  310  | -1.2497e+06 | 5.98e+00 | 6.82e+03 | 2.86e-07 |\n",
      "|  84   |  595  |  314  | -1.2528e+06 | 7.84e+00 | 5.67e+03 | 1.01e-07 |\n",
      "|  85   |  602  |  318  | -1.2549e+06 | 7.84e+00 | 3.59e+03 | 1.64e-07 |\n",
      "|  86   |  609  |  322  | -1.2568e+06 | 7.84e+00 | 3.18e+03 | 2.40e-06 |\n",
      "|  87   |  616  |  326  | -1.2574e+06 | 7.84e+00 | 9.18e+02 | 3.68e-07 |\n",
      "|  88   |  623  |  330  | -1.2574e+06 | 7.84e+00 | 3.60e+02 | 3.67e-08 |\n",
      "|  89   |  630  |  334  | -1.2574e+06 | 7.84e+00 | 7.41e+01 | 5.11e-15 |\n",
      "|  90   |  637  |  339  | -1.2574e+06 | 7.84e+00 | 2.42e+01 | 3.86e-14 |\n",
      "|  91   |  644  |  342  | -1.2574e+06 | 7.84e+00 | 1.93e+00 | 0.00e+00 |\n",
      "|  92   |  651  |  346  | -1.2574e+06 | 7.84e+00 | 5.17e-01 | 0.00e+00 |\n",
      "|  93   |  658  |  350  | -1.2574e+06 | 7.84e+00 | 1.24e-01 | 0.00e+00 |\n",
      "|  94   |  665  |  351  | -1.2574e+06 | 7.84e+00 | 2.01e-02 | 2.22e-16 |\n",
      "|  95   |  665  |  351  | -1.2574e+06 | 3.92e+01 | 2.55e-02 | 2.22e-16 |\n",
      "|  96   |  672  |  356  | -1.2574e+06 | 3.92e+01 | 9.46e-04 | 1.18e-14 |\n",
      "|  97   |  672  |  356  | -1.2574e+06 | 1.96e+02 | 6.81e-03 | 1.18e-14 |\n",
      "|  98   |  679  |  361  | -1.2574e+06 | 1.96e+02 | 5.89e-03 | 6.22e-15 |\n",
      "|  99   |  686  |  362  | -1.2574e+06 | 1.96e+02 | 1.77e-03 | 0.00e+00 |\n",
      "|  100  |  686  |  362  | -1.2574e+06 | 9.80e+02 | 9.11e-04 | 0.00e+00 |\n",
      "|  101  |  693  |  367  | -1.2574e+06 | 9.80e+02 | 2.19e-03 | 3.71e-14 |\n",
      "|  102  |  700  |  369  | -1.2574e+06 | 9.80e+02 | 7.28e-04 | 0.00e+00 |\n",
      "|  103  |  707  |  370  | -1.2574e+06 | 9.80e+02 | 1.10e-03 | 0.00e+00 |\n",
      "|  104  |  721  |  371  | -1.2574e+06 | 9.80e+01 | 1.10e-03 | 0.00e+00 |\n",
      "|  105  |  735  |  372  | -1.2574e+06 | 9.80e+00 | 1.10e-03 | 0.00e+00 |\n",
      "|  106  |  749  |  374  | -1.2574e+06 | 9.80e-01 | 1.10e-03 | 0.00e+00 |\n",
      "|  107  |  763  |  376  | -1.2574e+06 | 9.80e-02 | 1.10e-03 | 0.00e+00 |\n",
      "|  108  |  777  |  378  | -1.2574e+06 | 9.80e-03 | 1.10e-03 | 0.00e+00 |\n",
      "|  109  |  791  |  380  | -1.2574e+06 | 9.80e-04 | 1.10e-03 | 0.00e+00 |\n",
      "|  110  |  805  |  382  | -1.2574e+06 | 9.80e-05 | 1.10e-03 | 0.00e+00 |\n",
      "|  111  |  819  |  383  | -1.2574e+06 | 9.80e-06 | 1.10e-03 | 0.00e+00 |\n",
      "|  112  |  833  |  384  | -1.2574e+06 | 9.80e-07 | 1.10e-03 | 0.00e+00 |\n",
      "|  113  |  847  |  385  | -1.2574e+06 | 9.80e-08 | 1.10e-03 | 0.00e+00 |\n",
      "|  114  |  861  |  386  | -1.2574e+06 | 9.80e-09 | 1.10e-03 | 0.00e+00 |\n",
      "|  115  |  868  |  386  | -1.2574e+06 | 1.00e+00 | 1.26e-03 | 0.00e+00 |\n",
      "|  116  |  882  |  387  | -1.2574e+06 | 1.00e-01 | 1.26e-03 | 0.00e+00 |\n",
      "|  117  |  896  |  388  | -1.2574e+06 | 1.00e-02 | 1.26e-03 | 0.00e+00 |\n",
      "|  118  |  910  |  389  | -1.2574e+06 | 1.00e-03 | 1.26e-03 | 0.00e+00 |\n",
      "|  119  |  924  |  390  | -1.2574e+06 | 1.00e-04 | 1.26e-03 | 0.00e+00 |\n",
      "|  120  |  938  |  391  | -1.2574e+06 | 1.00e-05 | 1.26e-03 | 0.00e+00 |\n",
      "|  121  |  952  |  392  | -1.2574e+06 | 1.00e-06 | 1.26e-03 | 0.00e+00 |\n",
      "|  122  |  966  |  393  | -1.2574e+06 | 1.00e-07 | 1.26e-03 | 0.00e+00 |\n",
      "|  123  |  980  |  394  | -1.2574e+06 | 1.00e-08 | 1.26e-03 | 0.00e+00 |\n",
      "|  124  |  994  |  395  | -1.2574e+06 | 1.00e-09 | 1.26e-03 | 0.00e+00 |\n",
      "|  125  | 1001  |  395  | -1.2574e+06 | 1.00e+00 | 1.29e-03 | 0.00e+00 |\n",
      "|  126  | 1008  |  397  | -1.2574e+06 | 1.00e-01 | 1.29e-03 | 0.00e+00 |\n",
      "|  127  | 1022  |  399  | -1.2574e+06 | 1.00e-02 | 1.29e-03 | 0.00e+00 |\n",
      "|  128  | 1036  |  401  | -1.2574e+06 | 1.00e-03 | 1.29e-03 | 0.00e+00 |\n",
      "|  129  | 1050  |  402  | -1.2574e+06 | 1.00e-04 | 1.29e-03 | 0.00e+00 |\n",
      "|  130  | 1064  |  404  | -1.2574e+06 | 1.00e-05 | 1.29e-03 | 0.00e+00 |\n",
      "|  131  | 1078  |  406  | -1.2574e+06 | 1.00e-06 | 1.29e-03 | 0.00e+00 |\n",
      "|  132  | 1092  |  408  | -1.2574e+06 | 1.00e-07 | 1.29e-03 | 0.00e+00 |\n",
      "|  133  | 1106  |  410  | -1.2574e+06 | 1.00e-08 | 1.29e-03 | 0.00e+00 |\n",
      "|  134  | 1120  |  412  | -1.2574e+06 | 1.00e-09 | 1.29e-03 | 0.00e+00 |\n",
      "|  135  | 1127  |  412  | -1.2574e+06 | 1.00e+00 | 1.30e-03 | 0.00e+00 |\n",
      "|  136  | 1141  |  414  | -1.2574e+06 | 1.00e-01 | 1.30e-03 | 0.00e+00 |\n",
      "|  137  | 1155  |  417  | -1.2574e+06 | 1.00e-02 | 1.30e-03 | 0.00e+00 |\n",
      "|  138  | 1169  |  420  | -1.2574e+06 | 1.00e-03 | 1.30e-03 | 0.00e+00 |\n",
      "|  139  | 1183  |  423  | -1.2574e+06 | 1.00e-04 | 1.30e-03 | 0.00e+00 |\n",
      "|  140  | 1197  |  426  | -1.2574e+06 | 1.00e-05 | 1.30e-03 | 0.00e+00 |\n",
      "|  141  | 1211  |  429  | -1.2574e+06 | 1.00e-06 | 1.30e-03 | 0.00e+00 |\n",
      "|  142  | 1225  |  432  | -1.2574e+06 | 1.00e-07 | 1.30e-03 | 0.00e+00 |\n",
      "|  143  | 1239  |  435  | -1.2574e+06 | 1.00e-08 | 1.30e-03 | 0.00e+00 |\n",
      "|  144  | 1253  |  438  | -1.2574e+06 | 1.00e-09 | 1.30e-03 | 0.00e+00 |\n",
      "|  145  | 1260  |  438  | -1.2574e+06 | 1.00e+00 | 1.30e-03 | 0.00e+00 |\n",
      "|  146  | 1260  |  439  | -1.2574e+06 | 1.00e-01 | 1.30e-03 | 0.00e+00 |\n",
      "|  147  | 1260  |  440  | -1.2574e+06 | 1.00e-02 | 1.30e-03 | 0.00e+00 |\n",
      "|  148  | 1260  |  441  | -1.2574e+06 | 1.00e-03 | 1.30e-03 | 0.00e+00 |\n",
      "|  149  | 1260  |  442  | -1.2574e+06 | 1.00e-04 | 1.30e-03 | 0.00e+00 |\n",
      "|  150  | 1260  |  443  | -1.2574e+06 | 1.00e-05 | 1.30e-03 | 0.00e+00 |\n",
      "|  151  | 1260  |  444  | -1.2574e+06 | 1.00e-06 | 1.30e-03 | 0.00e+00 |\n",
      "|  152  | 1260  |  445  | -1.2574e+06 | 1.00e-07 | 1.30e-03 | 0.00e+00 |\n",
      "|  153  | 1260  |  446  | -1.2574e+06 | 1.00e-08 | 1.30e-03 | 0.00e+00 |\n",
      "|  154  | 1260  |  447  | -1.2574e+06 | 1.00e-09 | 1.30e-03 | 0.00e+00 |\n",
      "|  155  | 1260  |  447  | -1.2574e+06 | 1.00e+00 | 1.30e-03 | 0.00e+00 |\n",
      "|  156  | 1260  |  448  | -1.2574e+06 | 1.00e-01 | 1.30e-03 | 0.00e+00 |\n",
      "|  157  | 1260  |  449  | -1.2574e+06 | 1.00e-02 | 1.30e-03 | 0.00e+00 |\n",
      "|  158  | 1260  |  450  | -1.2574e+06 | 1.00e-03 | 1.30e-03 | 0.00e+00 |\n",
      "|  159  | 1260  |  451  | -1.2574e+06 | 1.00e-04 | 1.30e-03 | 0.00e+00 |\n",
      "|  160  | 1260  |  452  | -1.2574e+06 | 1.00e-05 | 1.30e-03 | 0.00e+00 |\n",
      "|  161  | 1260  |  453  | -1.2574e+06 | 1.00e-06 | 1.30e-03 | 0.00e+00 |\n",
      "|  162  | 1260  |  454  | -1.2574e+06 | 1.00e-07 | 1.30e-03 | 0.00e+00 |\n",
      "|  163  | 1260  |  455  | -1.2574e+06 | 1.00e-08 | 1.30e-03 | 0.00e+00 |\n",
      "|  164  | 1260  |  456  | -1.2574e+06 | 1.00e-09 | 1.30e-03 | 0.00e+00 |\n",
      "|  165  | 1260  |  456  | -1.2574e+06 | 1.00e+00 | 1.30e-03 | 0.00e+00 |\n",
      "|  166  | 1260  |  457  | -1.2574e+06 | 1.00e-01 | 1.30e-03 | 0.00e+00 |\n",
      "|  167  | 1260  |  458  | -1.2574e+06 | 1.00e-02 | 1.30e-03 | 0.00e+00 |\n",
      "|  168  | 1260  |  459  | -1.2574e+06 | 1.00e-03 | 1.30e-03 | 0.00e+00 |\n",
      "|  169  | 1260  |  460  | -1.2574e+06 | 1.00e-04 | 1.30e-03 | 0.00e+00 |\n",
      "|  170  | 1260  |  461  | -1.2574e+06 | 1.00e-05 | 1.30e-03 | 0.00e+00 |\n",
      "|  171  | 1260  |  462  | -1.2574e+06 | 1.00e-06 | 1.30e-03 | 0.00e+00 |\n",
      "|  172  | 1260  |  463  | -1.2574e+06 | 1.00e-07 | 1.30e-03 | 0.00e+00 |\n",
      "|  173  | 1260  |  464  | -1.2574e+06 | 1.00e-08 | 1.30e-03 | 0.00e+00 |\n",
      "|  174  | 1260  |  465  | -1.2574e+06 | 1.00e-09 | 1.30e-03 | 0.00e+00 |\n",
      "|  175  | 1260  |  465  | -1.2574e+06 | 1.00e+00 | 1.30e-03 | 0.00e+00 |\n",
      "|  176  | 1260  |  466  | -1.2574e+06 | 1.00e-01 | 1.30e-03 | 0.00e+00 |\n",
      "|  177  | 1260  |  467  | -1.2574e+06 | 1.00e-02 | 1.30e-03 | 0.00e+00 |\n",
      "|  178  | 1260  |  468  | -1.2574e+06 | 1.00e-03 | 1.30e-03 | 0.00e+00 |\n",
      "|  179  | 1260  |  469  | -1.2574e+06 | 1.00e-04 | 1.30e-03 | 0.00e+00 |\n",
      "|  180  | 1260  |  470  | -1.2574e+06 | 1.00e-05 | 1.30e-03 | 0.00e+00 |\n",
      "|  181  | 1260  |  471  | -1.2574e+06 | 1.00e-06 | 1.30e-03 | 0.00e+00 |\n",
      "|  182  | 1260  |  472  | -1.2574e+06 | 1.00e-07 | 1.30e-03 | 0.00e+00 |\n",
      "|  183  | 1260  |  473  | -1.2574e+06 | 1.00e-08 | 1.30e-03 | 0.00e+00 |\n",
      "|  184  | 1260  |  474  | -1.2574e+06 | 1.00e-09 | 1.30e-03 | 0.00e+00 |\n",
      "|  185  | 1260  |  474  | -1.2574e+06 | 1.00e+00 | 1.30e-03 | 0.00e+00 |\n",
      "|  186  | 1260  |  475  | -1.2574e+06 | 1.00e-01 | 1.30e-03 | 0.00e+00 |\n",
      "|  187  | 1260  |  476  | -1.2574e+06 | 1.00e-02 | 1.30e-03 | 0.00e+00 |\n",
      "|  188  | 1260  |  477  | -1.2574e+06 | 1.00e-03 | 1.30e-03 | 0.00e+00 |\n",
      "|  189  | 1260  |  478  | -1.2574e+06 | 1.00e-04 | 1.30e-03 | 0.00e+00 |\n",
      "|  190  | 1260  |  479  | -1.2574e+06 | 1.00e-05 | 1.30e-03 | 0.00e+00 |\n",
      "|  191  | 1260  |  480  | -1.2574e+06 | 1.00e-06 | 1.30e-03 | 0.00e+00 |\n",
      "|  192  | 1260  |  481  | -1.2574e+06 | 1.00e-07 | 1.30e-03 | 0.00e+00 |\n",
      "|  193  | 1260  |  482  | -1.2574e+06 | 1.00e-08 | 1.30e-03 | 0.00e+00 |\n",
      "|  194  | 1260  |  483  | -1.2574e+06 | 1.00e-09 | 1.30e-03 | 0.00e+00 |\n",
      "\n",
      "`xtol` termination condition is satisfied.\n",
      "Number of iterations: 194, function evaluations: 1260, CG iterations: 483, optimality: 1.30e-03, constraint violation: 0.00e+00, execution time:  0.5 s.\n"
     ]
    }
   ],
   "source": [
    "# all-in-one \n",
    "x = xdes + xres\n",
    "xb = xdb + xrb\n",
    "history = []\n",
    "starttime = time.time()\n",
    "constraints = [{'type':'eq', 'fun': lambda x: -(x[0]-(x[3]+x[1])), 'jac': lambda x: np.array([1,-1,0,-1,0,0])}, {'type':'ineq', 'fun': lambda x: -((x[0]-1)**2/const[2]-x[2]), 'jac': lambda x: -np.array([2*(x[0]-1)/const[2], 0, -1, 0,0,0]) }]\n",
    "constraints = [{'type':'eq', 'fun': lambda x: -(x[0]-(x[3]+x[1]))}, {'type':'ineq', 'fun': lambda x: -((x[0]-1)**2/const[2]-x[2]) }]\n",
    "\n",
    "result_aao = minimize(x_to_totcost_mono, x, method='trust-constr', bounds = xb, constraints =constraints, args = const, callback=callbackF, options={'maxiter':1e4, 'verbose':2}) \n",
    "time_aao = time.time() - starttime\n",
    "aao_history = history"
   ]
  },
  {
   "cell_type": "code",
   "execution_count": 11,
   "metadata": {},
   "outputs": [
    {
     "data": {
      "text/plain": [
       "array([1.46423824e+00, 1.05595200e+00, 2.15517142e-03, 4.08286237e-01,\n",
       "       6.15471379e-01, 9.99999964e+00])"
      ]
     },
     "execution_count": 11,
     "metadata": {},
     "output_type": "execute_result"
    }
   ],
   "source": [
    "result_aao['x']"
   ]
  },
  {
   "cell_type": "code",
   "execution_count": 12,
   "metadata": {},
   "outputs": [
    {
     "data": {
      "text/plain": [
       "-1257428.5235685816"
      ]
     },
     "execution_count": 12,
     "metadata": {},
     "output_type": "execute_result"
    }
   ],
   "source": [
    "result_aao['fun']"
   ]
  },
  {
   "cell_type": "code",
   "execution_count": 13,
   "metadata": {},
   "outputs": [
    {
     "data": {
      "text/plain": [
       "0.5053563117980957"
      ]
     },
     "execution_count": 13,
     "metadata": {},
     "output_type": "execute_result"
    }
   ],
   "source": [
    "time_aao"
   ]
  },
  {
   "cell_type": "code",
   "execution_count": 14,
   "metadata": {},
   "outputs": [],
   "source": [
    "times_aao = np.linspace(0,1,len(aao_history))*time_aao"
   ]
  },
  {
   "cell_type": "markdown",
   "metadata": {},
   "source": [
    "<h3 align=\"center\">Bilevel Architecture</h3> \n",
    "\n",
    "![Bilevel Architecture](bilevel.png)\n",
    "\n",
    "In the bilevel architecture, the optimization of the resilience model is nested inside the optimization of the design model."
   ]
  },
  {
   "cell_type": "code",
   "execution_count": 15,
   "metadata": {},
   "outputs": [],
   "source": [
    "def bi_upper_level(xdes, args):\n",
    "    const = args['const']\n",
    "    xres = args['xres']\n",
    "    dcost = des_cost(xdes, const)\n",
    "    xrb =  ((0.0001,100), (0.0001,100))\n",
    "    ll_result = minimize(res_cost, [round(xres[0],2),round(xres[1],2)], method='trust-constr', bounds = xrb, args = (xdes, const), options={'maxiter':20, 'verbose':1})\n",
    "    args['xres'] = ll_result['x']\n",
    "    rcost = ll_result['fun']\n",
    "    return rcost + dcost\n",
    "\n",
    "# just design cost variables.\n",
    "#constraints_des = [{'type':'eq', 'fun': lambda x: x[0]-(x[3]+x[1]), 'jac': lambda x: np.array([1,-1,0,-1])}, {'type':'ineq', 'fun': lambda x: -((x[0]-1)**2/const[2]-x[2]), 'jac': lambda x: -np.array([2*(x[0]-1)/const[2], 0, -1, 0]) }]\n",
    "constraints_des = [{'type':'eq', 'fun': lambda x: x[0]-(x[3]+x[1])}, {'type':'ineq', 'fun': lambda x: -((x[0]-1)**2/const[2]-x[2])}]"
   ]
  },
  {
   "cell_type": "code",
   "execution_count": 16,
   "metadata": {},
   "outputs": [
    {
     "data": {
      "text/plain": [
       "1"
      ]
     },
     "execution_count": 16,
     "metadata": {},
     "output_type": "execute_result"
    }
   ],
   "source": [
    "round(1.234)"
   ]
  },
  {
   "cell_type": "markdown",
   "metadata": {},
   "source": [
    "In this approach, we again use the trust region-constrained algorithm, this time with a max number of iterations of 100 in the upper level and 10 in the lower level (for rough parity with the all-in-one algorithm)."
   ]
  },
  {
   "cell_type": "code",
   "execution_count": 17,
   "metadata": {},
   "outputs": [
    {
     "name": "stdout",
     "output_type": "stream",
     "text": [
      "The maximum number of function evaluations is exceeded.\n",
      "Number of iterations: 20, function evaluations: 60, CG iterations: 37, optimality: 9.01e-02, constraint violation: 0.00e+00, execution time: 0.073 s.\n",
      "The maximum number of function evaluations is exceeded.\n",
      "Number of iterations: 20, function evaluations: 39, CG iterations: 17, optimality: 5.93e-06, constraint violation: 0.00e+00, execution time: 0.051 s.\n",
      "The maximum number of function evaluations is exceeded.\n",
      "Number of iterations: 20, function evaluations: 42, CG iterations: 18, optimality: 3.15e-06, constraint violation: 0.00e+00, execution time: 0.052 s.\n",
      "The maximum number of function evaluations is exceeded.\n",
      "Number of iterations: 20, function evaluations: 42, CG iterations: 18, optimality: 2.40e-05, constraint violation: 0.00e+00, execution time: 0.051 s.\n",
      "The maximum number of function evaluations is exceeded.\n",
      "Number of iterations: 20, function evaluations: 39, CG iterations: 17, optimality: 5.93e-06, constraint violation: 0.00e+00, execution time: 0.053 s.\n",
      "| niter |f evals|CG iter|  obj func   |tr radius |   opt    |  c viol  |\n",
      "|-------|-------|-------|-------------|----------|----------|----------|\n",
      "|   1   |   5   |   0   | -1.5895e+05 | 1.00e+00 | 3.32e+09 | 0.00e+00 |\n",
      "The maximum number of function evaluations is exceeded.\n",
      "Number of iterations: 20, function evaluations: 57, CG iterations: 31, optimality: 9.42e-02, constraint violation: 0.00e+00, execution time: 0.052 s.\n",
      "The maximum number of function evaluations is exceeded.\n",
      "Number of iterations: 20, function evaluations: 57, CG iterations: 32, optimality: 7.25e-02, constraint violation: 0.00e+00, execution time: 0.045 s.\n",
      "The maximum number of function evaluations is exceeded.\n",
      "Number of iterations: 20, function evaluations: 45, CG iterations: 26, optimality: 9.42e-02, constraint violation: 0.00e+00, execution time: 0.037 s.\n",
      "The maximum number of function evaluations is exceeded.\n",
      "Number of iterations: 20, function evaluations: 45, CG iterations: 35, optimality: 2.30e-02, constraint violation: 0.00e+00, execution time: 0.041 s.\n",
      "The maximum number of function evaluations is exceeded.\n",
      "Number of iterations: 20, function evaluations: 57, CG iterations: 32, optimality: 7.25e-02, constraint violation: 0.00e+00, execution time: 0.043 s.\n",
      "|   2   |  10   |   1   | -1.5895e+05 | 5.00e-01 | 3.32e+09 | 0.00e+00 |\n",
      "The maximum number of function evaluations is exceeded.\n",
      "Number of iterations: 20, function evaluations: 42, CG iterations: 18, optimality: 3.15e-06, constraint violation: 0.00e+00, execution time: 0.049 s.\n",
      "The maximum number of function evaluations is exceeded.\n",
      "Number of iterations: 20, function evaluations: 33, CG iterations: 18, optimality: 2.52e-08, constraint violation: 0.00e+00, execution time: 0.053 s.\n",
      "The maximum number of function evaluations is exceeded.\n",
      "Number of iterations: 20, function evaluations: 42, CG iterations: 32, optimality: 1.20e-02, constraint violation: 0.00e+00, execution time: 0.045 s.\n",
      "The maximum number of function evaluations is exceeded.\n",
      "Number of iterations: 20, function evaluations: 42, CG iterations: 26, optimality: 1.79e-02, constraint violation: 0.00e+00, execution time: 0.046 s.\n",
      "The maximum number of function evaluations is exceeded.\n",
      "Number of iterations: 20, function evaluations: 33, CG iterations: 18, optimality: 2.52e-08, constraint violation: 0.00e+00, execution time: 0.054 s.\n",
      "|   3   |  15   |   2   | -1.5895e+05 | 2.50e-01 | 3.32e+09 | 0.00e+00 |\n",
      "The maximum number of function evaluations is exceeded.\n",
      "Number of iterations: 20, function evaluations: 48, CG iterations: 27, optimality: 7.88e-05, constraint violation: 0.00e+00, execution time: 0.055 s.\n",
      "The maximum number of function evaluations is exceeded.\n",
      "Number of iterations: 20, function evaluations: 48, CG iterations: 27, optimality: 7.88e-05, constraint violation: 0.00e+00, execution time: 0.057 s.\n",
      "The maximum number of function evaluations is exceeded.\n",
      "Number of iterations: 20, function evaluations: 48, CG iterations: 27, optimality: 3.02e-03, constraint violation: 0.00e+00, execution time: 0.057 s.\n",
      "The maximum number of function evaluations is exceeded.\n",
      "Number of iterations: 20, function evaluations: 51, CG iterations: 29, optimality: 3.02e-03, constraint violation: 0.00e+00, execution time: 0.05 s.\n",
      "The maximum number of function evaluations is exceeded.\n",
      "Number of iterations: 20, function evaluations: 48, CG iterations: 27, optimality: 7.88e-05, constraint violation: 0.00e+00, execution time: 0.082 s.\n",
      "|   4   |  20   |   3   | -1.5895e+05 | 1.25e-01 | 3.32e+09 | 0.00e+00 |\n",
      "The maximum number of function evaluations is exceeded.\n",
      "Number of iterations: 20, function evaluations: 48, CG iterations: 26, optimality: 4.97e-03, constraint violation: 0.00e+00, execution time: 0.053 s.\n",
      "The maximum number of function evaluations is exceeded.\n",
      "Number of iterations: 20, function evaluations: 48, CG iterations: 26, optimality: 4.97e-03, constraint violation: 0.00e+00, execution time: 0.05 s.\n",
      "The maximum number of function evaluations is exceeded.\n",
      "Number of iterations: 20, function evaluations: 54, CG iterations: 29, optimality: 1.48e-03, constraint violation: 0.00e+00, execution time: 0.056 s.\n",
      "The maximum number of function evaluations is exceeded.\n",
      "Number of iterations: 20, function evaluations: 45, CG iterations: 26, optimality: 1.19e-02, constraint violation: 0.00e+00, execution time: 0.049 s.\n",
      "The maximum number of function evaluations is exceeded.\n",
      "Number of iterations: 20, function evaluations: 48, CG iterations: 26, optimality: 4.97e-03, constraint violation: 0.00e+00, execution time: 0.05 s.\n",
      "|   5   |  25   |   4   | -1.5895e+05 | 6.25e-02 | 3.32e+09 | 0.00e+00 |\n",
      "The maximum number of function evaluations is exceeded.\n",
      "Number of iterations: 20, function evaluations: 51, CG iterations: 26, optimality: 3.08e-03, constraint violation: 0.00e+00, execution time: 0.05 s.\n",
      "The maximum number of function evaluations is exceeded.\n",
      "Number of iterations: 20, function evaluations: 51, CG iterations: 26, optimality: 3.08e-03, constraint violation: 0.00e+00, execution time: 0.051 s.\n",
      "The maximum number of function evaluations is exceeded.\n",
      "Number of iterations: 20, function evaluations: 36, CG iterations: 18, optimality: 1.26e-07, constraint violation: 0.00e+00, execution time: 0.051 s.\n",
      "The maximum number of function evaluations is exceeded.\n",
      "Number of iterations: 20, function evaluations: 36, CG iterations: 18, optimality: 1.26e-07, constraint violation: 0.00e+00, execution time: 0.052 s.\n",
      "The maximum number of function evaluations is exceeded.\n",
      "Number of iterations: 20, function evaluations: 51, CG iterations: 26, optimality: 3.08e-03, constraint violation: 0.00e+00, execution time: 0.053 s.\n",
      "|   6   |  30   |   5   | -5.2295e+05 | 6.25e-02 | 1.00e+07 | 2.31e-04 |\n",
      "The maximum number of function evaluations is exceeded.\n",
      "Number of iterations: 20, function evaluations: 60, CG iterations: 22, optimality: 4.08e+00, constraint violation: 0.00e+00, execution time: 0.066 s.\n",
      "The maximum number of function evaluations is exceeded.\n",
      "Number of iterations: 20, function evaluations: 60, CG iterations: 19, optimality: 6.51e+00, constraint violation: 0.00e+00, execution time: 0.051 s.\n",
      "The maximum number of function evaluations is exceeded.\n",
      "Number of iterations: 20, function evaluations: 60, CG iterations: 19, optimality: 9.75e+00, constraint violation: 0.00e+00, execution time: 0.056 s.\n",
      "The maximum number of function evaluations is exceeded.\n",
      "Number of iterations: 20, function evaluations: 60, CG iterations: 19, optimality: 1.30e+01, constraint violation: 0.00e+00, execution time: 0.055 s.\n",
      "The maximum number of function evaluations is exceeded.\n",
      "Number of iterations: 20, function evaluations: 60, CG iterations: 19, optimality: 1.62e+01, constraint violation: 0.00e+00, execution time: 0.057 s.\n",
      "|   7   |  35   |   6   | -5.2295e+05 | 6.25e-03 | 1.00e+07 | 2.31e-04 |\n",
      "The maximum number of function evaluations is exceeded.\n",
      "Number of iterations: 20, function evaluations: 60, CG iterations: 21, optimality: 3.79e+04, constraint violation: 0.00e+00, execution time: 0.065 s.\n",
      "The maximum number of function evaluations is exceeded.\n",
      "Number of iterations: 20, function evaluations: 51, CG iterations: 27, optimality: 3.08e-03, constraint violation: 0.00e+00, execution time: 0.061 s.\n"
     ]
    },
    {
     "name": "stdout",
     "output_type": "stream",
     "text": [
      "The maximum number of function evaluations is exceeded.\n",
      "Number of iterations: 20, function evaluations: 39, CG iterations: 30, optimality: 1.48e-03, constraint violation: 0.00e+00, execution time: 0.045 s.\n",
      "The maximum number of function evaluations is exceeded.\n",
      "Number of iterations: 20, function evaluations: 48, CG iterations: 29, optimality: 3.08e-03, constraint violation: 0.00e+00, execution time: 0.051 s.\n",
      "The maximum number of function evaluations is exceeded.\n",
      "Number of iterations: 20, function evaluations: 51, CG iterations: 24, optimality: 4.97e-03, constraint violation: 0.00e+00, execution time: 0.045 s.\n",
      "|   8   |  40   |   7   | -5.2295e+05 | 6.25e-04 | 1.00e+07 | 2.31e-04 |\n",
      "The maximum number of function evaluations is exceeded.\n",
      "Number of iterations: 20, function evaluations: 45, CG iterations: 23, optimality: 3.08e-03, constraint violation: 0.00e+00, execution time: 0.046 s.\n",
      "The maximum number of function evaluations is exceeded.\n",
      "Number of iterations: 20, function evaluations: 45, CG iterations: 23, optimality: 3.08e-03, constraint violation: 0.00e+00, execution time: 0.045 s.\n",
      "The maximum number of function evaluations is exceeded.\n",
      "Number of iterations: 20, function evaluations: 42, CG iterations: 28, optimality: 3.08e-03, constraint violation: 0.00e+00, execution time: 0.047 s.\n",
      "The maximum number of function evaluations is exceeded.\n",
      "Number of iterations: 20, function evaluations: 39, CG iterations: 20, optimality: 6.30e-07, constraint violation: 0.00e+00, execution time: 0.058 s.\n",
      "The maximum number of function evaluations is exceeded.\n",
      "Number of iterations: 20, function evaluations: 45, CG iterations: 23, optimality: 3.08e-03, constraint violation: 0.00e+00, execution time: 0.047 s.\n",
      "|   9   |  45   |   8   | -5.2945e+05 | 4.38e-03 | 1.00e+07 | 2.33e-04 |\n",
      "The maximum number of function evaluations is exceeded.\n",
      "Number of iterations: 20, function evaluations: 36, CG iterations: 19, optimality: 1.26e-07, constraint violation: 0.00e+00, execution time: 0.056 s.\n",
      "The maximum number of function evaluations is exceeded.\n",
      "Number of iterations: 20, function evaluations: 36, CG iterations: 19, optimality: 1.26e-07, constraint violation: 0.00e+00, execution time: 0.053 s.\n",
      "The maximum number of function evaluations is exceeded.\n",
      "Number of iterations: 20, function evaluations: 48, CG iterations: 25, optimality: 3.08e-03, constraint violation: 0.00e+00, execution time: 0.048 s.\n",
      "The maximum number of function evaluations is exceeded.\n",
      "Number of iterations: 20, function evaluations: 39, CG iterations: 24, optimality: 6.55e-03, constraint violation: 0.00e+00, execution time: 0.044 s.\n",
      "The maximum number of function evaluations is exceeded.\n",
      "Number of iterations: 20, function evaluations: 36, CG iterations: 19, optimality: 1.26e-07, constraint violation: 0.00e+00, execution time: 0.051 s.\n",
      "|  10   |  50   |  10   | -5.7043e+05 | 3.06e-02 | 1.00e+07 | 2.50e-04 |\n",
      "The maximum number of function evaluations is exceeded.\n",
      "Number of iterations: 20, function evaluations: 42, CG iterations: 22, optimality: 2.12e-03, constraint violation: 0.00e+00, execution time: 0.045 s.\n",
      "The maximum number of function evaluations is exceeded.\n",
      "Number of iterations: 20, function evaluations: 42, CG iterations: 22, optimality: 2.12e-03, constraint violation: 0.00e+00, execution time: 0.048 s.\n",
      "The maximum number of function evaluations is exceeded.\n",
      "Number of iterations: 20, function evaluations: 45, CG iterations: 26, optimality: 3.73e-04, constraint violation: 0.00e+00, execution time: 0.047 s.\n",
      "The maximum number of function evaluations is exceeded.\n",
      "Number of iterations: 20, function evaluations: 51, CG iterations: 24, optimality: 1.34e-03, constraint violation: 0.00e+00, execution time: 0.054 s.\n",
      "The maximum number of function evaluations is exceeded.\n",
      "Number of iterations: 20, function evaluations: 42, CG iterations: 22, optimality: 2.12e-03, constraint violation: 0.00e+00, execution time: 0.047 s.\n",
      "|  11   |  55   |  12   | -8.5593e+05 | 2.14e-01 | 9.67e+06 | 3.68e-04 |\n",
      "The maximum number of function evaluations is exceeded.\n",
      "Number of iterations: 20, function evaluations: 60, CG iterations: 21, optimality: 1.48e+05, constraint violation: 0.00e+00, execution time: 0.065 s.\n",
      "`gtol` termination condition is satisfied.\n",
      "Number of iterations: 18, function evaluations: 54, CG iterations: 23, optimality: 1.83e-09, constraint violation: 0.00e+00, execution time: 0.056 s.\n",
      "`gtol` termination condition is satisfied.\n",
      "Number of iterations: 9, function evaluations: 24, CG iterations: 11, optimality: 7.68e-09, constraint violation: 0.00e+00, execution time: 0.027 s.\n",
      "`gtol` termination condition is satisfied.\n",
      "Number of iterations: 9, function evaluations: 24, CG iterations: 11, optimality: 7.68e-09, constraint violation: 0.00e+00, execution time: 0.026 s.\n",
      "`gtol` termination condition is satisfied.\n",
      "Number of iterations: 9, function evaluations: 24, CG iterations: 11, optimality: 7.68e-09, constraint violation: 0.00e+00, execution time: 0.026 s.\n",
      "|  12   |  60   |  14   | -8.5593e+05 | 2.14e-02 | 9.67e+06 | 3.68e-04 |\n",
      "The maximum number of function evaluations is exceeded.\n",
      "Number of iterations: 20, function evaluations: 69, CG iterations: 31, optimality: 6.64e+03, constraint violation: 0.00e+00, execution time: 0.047 s.\n",
      "The maximum number of function evaluations is exceeded.\n",
      "Number of iterations: 20, function evaluations: 63, CG iterations: 36, optimality: 3.84e+03, constraint violation: 0.00e+00, execution time: 0.06 s.\n",
      "The maximum number of function evaluations is exceeded.\n",
      "Number of iterations: 20, function evaluations: 48, CG iterations: 24, optimality: 7.85e-04, constraint violation: 0.00e+00, execution time: 0.051 s.\n",
      "The maximum number of function evaluations is exceeded.\n",
      "Number of iterations: 20, function evaluations: 39, CG iterations: 26, optimality: 1.79e-04, constraint violation: 0.00e+00, execution time: 0.045 s.\n",
      "The maximum number of function evaluations is exceeded.\n",
      "Number of iterations: 20, function evaluations: 51, CG iterations: 26, optimality: 3.94e-04, constraint violation: 0.00e+00, execution time: 0.047 s.\n",
      "|  13   |  65   |  16   | -9.6694e+05 | 4.29e-02 | 3.73e+12 | 4.51e-04 |\n",
      "The maximum number of function evaluations is exceeded.\n",
      "Number of iterations: 20, function evaluations: 51, CG iterations: 24, optimality: 1.09e-03, constraint violation: 0.00e+00, execution time: 0.049 s.\n",
      "The maximum number of function evaluations is exceeded.\n",
      "Number of iterations: 20, function evaluations: 51, CG iterations: 24, optimality: 1.09e-03, constraint violation: 0.00e+00, execution time: 0.052 s.\n",
      "The maximum number of function evaluations is exceeded.\n",
      "Number of iterations: 20, function evaluations: 45, CG iterations: 20, optimality: 3.07e-03, constraint violation: 0.00e+00, execution time: 0.049 s.\n",
      "The maximum number of function evaluations is exceeded.\n",
      "Number of iterations: 20, function evaluations: 39, CG iterations: 27, optimality: 1.34e-03, constraint violation: 0.00e+00, execution time: 0.044 s.\n",
      "The maximum number of function evaluations is exceeded.\n",
      "Number of iterations: 20, function evaluations: 51, CG iterations: 24, optimality: 1.09e-03, constraint violation: 0.00e+00, execution time: 0.055 s.\n",
      "|  14   |  70   |  18   | -9.6694e+05 | 2.14e-02 | 3.73e+12 | 4.51e-04 |\n",
      "The maximum number of function evaluations is exceeded.\n",
      "Number of iterations: 20, function evaluations: 45, CG iterations: 22, optimality: 7.85e-04, constraint violation: 0.00e+00, execution time: 0.049 s.\n",
      "The maximum number of function evaluations is exceeded.\n",
      "Number of iterations: 20, function evaluations: 45, CG iterations: 22, optimality: 7.85e-04, constraint violation: 0.00e+00, execution time: 0.053 s.\n",
      "The maximum number of function evaluations is exceeded.\n",
      "Number of iterations: 20, function evaluations: 45, CG iterations: 24, optimality: 1.79e-04, constraint violation: 0.00e+00, execution time: 0.049 s.\n",
      "The maximum number of function evaluations is exceeded.\n",
      "Number of iterations: 20, function evaluations: 33, CG iterations: 16, optimality: 2.52e-08, constraint violation: 0.00e+00, execution time: 0.056 s.\n",
      "The maximum number of function evaluations is exceeded.\n",
      "Number of iterations: 20, function evaluations: 45, CG iterations: 22, optimality: 7.85e-04, constraint violation: 0.00e+00, execution time: 0.051 s.\n",
      "|  15   |  75   |  21   | -1.0179e+06 | 2.14e-02 | 8.04e+06 | 5.36e-04 |\n",
      "The maximum number of function evaluations is exceeded.\n",
      "Number of iterations: 20, function evaluations: 60, CG iterations: 19, optimality: 6.57e+03, constraint violation: 0.00e+00, execution time: 0.059 s.\n",
      "`gtol` termination condition is satisfied.\n",
      "Number of iterations: 19, function evaluations: 54, CG iterations: 19, optimality: 4.14e-09, constraint violation: 0.00e+00, execution time: 0.055 s.\n",
      "`gtol` termination condition is satisfied.\n",
      "Number of iterations: 5, function evaluations: 15, CG iterations: 7, optimality: 2.75e-10, constraint violation: 0.00e+00, execution time: 0.014 s.\n",
      "`gtol` termination condition is satisfied.\n",
      "Number of iterations: 5, function evaluations: 15, CG iterations: 7, optimality: 2.74e-10, constraint violation: 0.00e+00, execution time: 0.015 s.\n",
      "`gtol` termination condition is satisfied.\n",
      "Number of iterations: 5, function evaluations: 15, CG iterations: 7, optimality: 2.75e-10, constraint violation: 0.00e+00, execution time: 0.015 s.\n",
      "|  16   |  80   |  23   | -1.0179e+06 | 2.14e-03 | 8.04e+06 | 5.36e-04 |\n"
     ]
    },
    {
     "name": "stdout",
     "output_type": "stream",
     "text": [
      "The maximum number of function evaluations is exceeded.\n",
      "Number of iterations: 20, function evaluations: 69, CG iterations: 33, optimality: 6.63e+03, constraint violation: 0.00e+00, execution time: 0.047 s.\n",
      "The maximum number of function evaluations is exceeded.\n",
      "Number of iterations: 20, function evaluations: 66, CG iterations: 35, optimality: 1.74e+03, constraint violation: 0.00e+00, execution time: 0.049 s.\n",
      "The maximum number of function evaluations is exceeded.\n",
      "Number of iterations: 20, function evaluations: 48, CG iterations: 24, optimality: 1.22e-03, constraint violation: 0.00e+00, execution time: 0.053 s.\n",
      "The maximum number of function evaluations is exceeded.\n",
      "Number of iterations: 20, function evaluations: 36, CG iterations: 18, optimality: 1.26e-07, constraint violation: 0.00e+00, execution time: 0.05 s.\n",
      "The maximum number of function evaluations is exceeded.\n",
      "Number of iterations: 20, function evaluations: 42, CG iterations: 21, optimality: 7.85e-04, constraint violation: 0.00e+00, execution time: 0.045 s.\n",
      "|  17   |  85   |  25   | -1.0179e+06 | 5.16e-04 | 8.04e+06 | 5.36e-04 |\n",
      "The maximum number of function evaluations is exceeded.\n",
      "Number of iterations: 20, function evaluations: 48, CG iterations: 21, optimality: 7.85e-04, constraint violation: 0.00e+00, execution time: 0.049 s.\n",
      "The maximum number of function evaluations is exceeded.\n",
      "Number of iterations: 20, function evaluations: 48, CG iterations: 21, optimality: 7.85e-04, constraint violation: 0.00e+00, execution time: 0.049 s.\n",
      "The maximum number of function evaluations is exceeded.\n",
      "Number of iterations: 20, function evaluations: 45, CG iterations: 23, optimality: 9.39e-05, constraint violation: 0.00e+00, execution time: 0.048 s.\n",
      "The maximum number of function evaluations is exceeded.\n",
      "Number of iterations: 20, function evaluations: 39, CG iterations: 21, optimality: 7.85e-04, constraint violation: 0.00e+00, execution time: 0.045 s.\n",
      "The maximum number of function evaluations is exceeded.\n",
      "Number of iterations: 20, function evaluations: 48, CG iterations: 21, optimality: 7.85e-04, constraint violation: 0.00e+00, execution time: 0.048 s.\n",
      "|  18   |  90   |  27   | -1.0218e+06 | 3.61e-03 | 7.88e+06 | 5.38e-04 |\n",
      "The maximum number of function evaluations is exceeded.\n",
      "Number of iterations: 20, function evaluations: 42, CG iterations: 23, optimality: 8.26e-04, constraint violation: 0.00e+00, execution time: 0.044 s.\n",
      "The maximum number of function evaluations is exceeded.\n",
      "Number of iterations: 20, function evaluations: 42, CG iterations: 23, optimality: 8.26e-04, constraint violation: 0.00e+00, execution time: 0.044 s.\n",
      "The maximum number of function evaluations is exceeded.\n",
      "Number of iterations: 20, function evaluations: 36, CG iterations: 17, optimality: 1.26e-07, constraint violation: 0.00e+00, execution time: 0.051 s.\n",
      "The maximum number of function evaluations is exceeded.\n",
      "Number of iterations: 20, function evaluations: 45, CG iterations: 24, optimality: 9.39e-05, constraint violation: 0.00e+00, execution time: 0.057 s.\n",
      "The maximum number of function evaluations is exceeded.\n",
      "Number of iterations: 20, function evaluations: 42, CG iterations: 23, optimality: 8.26e-04, constraint violation: 0.00e+00, execution time: 0.046 s.\n",
      "|  19   |  95   |  29   | -1.0461e+06 | 2.53e-02 | 5.90e+06 | 5.52e-04 |\n",
      "The maximum number of function evaluations is exceeded.\n",
      "Number of iterations: 20, function evaluations: 60, CG iterations: 19, optimality: 1.48e+03, constraint violation: 0.00e+00, execution time: 0.059 s.\n",
      "`gtol` termination condition is satisfied.\n",
      "Number of iterations: 13, function evaluations: 39, CG iterations: 14, optimality: 8.80e-10, constraint violation: 0.00e+00, execution time: 0.038 s.\n",
      "`gtol` termination condition is satisfied.\n",
      "Number of iterations: 5, function evaluations: 15, CG iterations: 7, optimality: 2.55e-10, constraint violation: 0.00e+00, execution time: 0.015 s.\n",
      "`gtol` termination condition is satisfied.\n",
      "Number of iterations: 5, function evaluations: 15, CG iterations: 7, optimality: 2.55e-10, constraint violation: 0.00e+00, execution time: 0.019 s.\n",
      "`gtol` termination condition is satisfied.\n",
      "Number of iterations: 5, function evaluations: 15, CG iterations: 7, optimality: 2.55e-10, constraint violation: 0.00e+00, execution time: 0.016 s.\n",
      "|  20   |  100  |  32   | -1.0461e+06 | 2.53e-03 | 5.90e+06 | 5.52e-04 |\n",
      "The maximum number of function evaluations is exceeded.\n",
      "Number of iterations: 20, function evaluations: 66, CG iterations: 31, optimality: 4.24e+03, constraint violation: 0.00e+00, execution time: 0.047 s.\n",
      "The maximum number of function evaluations is exceeded.\n",
      "Number of iterations: 20, function evaluations: 63, CG iterations: 36, optimality: 2.45e+03, constraint violation: 0.00e+00, execution time: 0.054 s.\n",
      "The maximum number of function evaluations is exceeded.\n",
      "Number of iterations: 20, function evaluations: 45, CG iterations: 24, optimality: 5.69e-04, constraint violation: 0.00e+00, execution time: 0.05 s.\n",
      "The maximum number of function evaluations is exceeded.\n",
      "Number of iterations: 20, function evaluations: 36, CG iterations: 25, optimality: 1.42e-04, constraint violation: 0.00e+00, execution time: 0.046 s.\n",
      "The maximum number of function evaluations is exceeded.\n",
      "Number of iterations: 20, function evaluations: 48, CG iterations: 22, optimality: 3.53e-04, constraint violation: 0.00e+00, execution time: 0.051 s.\n",
      "|  21   |  105  |  34   | -1.0461e+06 | 6.64e-04 | 5.90e+06 | 5.52e-04 |\n",
      "The maximum number of function evaluations is exceeded.\n",
      "Number of iterations: 20, function evaluations: 45, CG iterations: 20, optimality: 9.39e-05, constraint violation: 0.00e+00, execution time: 0.052 s.\n",
      "The maximum number of function evaluations is exceeded.\n",
      "Number of iterations: 20, function evaluations: 45, CG iterations: 20, optimality: 9.39e-05, constraint violation: 0.00e+00, execution time: 0.052 s.\n",
      "The maximum number of function evaluations is exceeded.\n",
      "Number of iterations: 20, function evaluations: 45, CG iterations: 24, optimality: 9.39e-05, constraint violation: 0.00e+00, execution time: 0.048 s.\n",
      "The maximum number of function evaluations is exceeded.\n",
      "Number of iterations: 20, function evaluations: 45, CG iterations: 20, optimality: 7.85e-04, constraint violation: 0.00e+00, execution time: 0.051 s.\n",
      "The maximum number of function evaluations is exceeded.\n",
      "Number of iterations: 20, function evaluations: 45, CG iterations: 20, optimality: 9.39e-05, constraint violation: 0.00e+00, execution time: 0.054 s.\n",
      "|  22   |  110  |  36   | -1.0497e+06 | 4.65e-03 | 5.23e+06 | 5.55e-04 |\n",
      "The maximum number of function evaluations is exceeded.\n",
      "Number of iterations: 20, function evaluations: 45, CG iterations: 20, optimality: 2.00e-04, constraint violation: 0.00e+00, execution time: 0.053 s.\n",
      "The maximum number of function evaluations is exceeded.\n",
      "Number of iterations: 20, function evaluations: 45, CG iterations: 20, optimality: 2.00e-04, constraint violation: 0.00e+00, execution time: 0.054 s.\n",
      "The maximum number of function evaluations is exceeded.\n",
      "Number of iterations: 20, function evaluations: 42, CG iterations: 21, optimality: 3.53e-04, constraint violation: 0.00e+00, execution time: 0.048 s.\n",
      "The maximum number of function evaluations is exceeded.\n",
      "Number of iterations: 20, function evaluations: 45, CG iterations: 20, optimality: 2.00e-04, constraint violation: 0.00e+00, execution time: 0.048 s.\n",
      "The maximum number of function evaluations is exceeded.\n",
      "Number of iterations: 20, function evaluations: 45, CG iterations: 20, optimality: 2.00e-04, constraint violation: 0.00e+00, execution time: 0.051 s.\n",
      "|  23   |  115  |  38   | -1.0497e+06 | 2.32e-03 | 5.23e+06 | 5.55e-04 |\n",
      "The maximum number of function evaluations is exceeded.\n",
      "Number of iterations: 20, function evaluations: 45, CG iterations: 21, optimality: 4.48e-04, constraint violation: 0.00e+00, execution time: 0.051 s.\n",
      "The maximum number of function evaluations is exceeded.\n",
      "Number of iterations: 20, function evaluations: 45, CG iterations: 21, optimality: 4.48e-04, constraint violation: 0.00e+00, execution time: 0.054 s.\n",
      "The maximum number of function evaluations is exceeded.\n",
      "Number of iterations: 20, function evaluations: 33, CG iterations: 16, optimality: 2.52e-08, constraint violation: 0.00e+00, execution time: 0.05 s.\n"
     ]
    },
    {
     "name": "stdout",
     "output_type": "stream",
     "text": [
      "The maximum number of function evaluations is exceeded.\n",
      "Number of iterations: 20, function evaluations: 42, CG iterations: 21, optimality: 3.15e-06, constraint violation: 0.00e+00, execution time: 0.057 s.\n",
      "The maximum number of function evaluations is exceeded.\n",
      "Number of iterations: 20, function evaluations: 45, CG iterations: 21, optimality: 4.48e-04, constraint violation: 0.00e+00, execution time: 0.054 s.\n",
      "|  24   |  120  |  41   | -1.0552e+06 | 1.41e-02 | 3.33e+06 | 5.64e-04 |\n",
      "The maximum number of function evaluations is exceeded.\n",
      "Number of iterations: 20, function evaluations: 48, CG iterations: 25, optimality: 1.79e-04, constraint violation: 0.00e+00, execution time: 0.051 s.\n",
      "The maximum number of function evaluations is exceeded.\n",
      "Number of iterations: 20, function evaluations: 48, CG iterations: 25, optimality: 1.79e-04, constraint violation: 0.00e+00, execution time: 0.05 s.\n",
      "The maximum number of function evaluations is exceeded.\n",
      "Number of iterations: 20, function evaluations: 48, CG iterations: 24, optimality: 1.57e-05, constraint violation: 0.00e+00, execution time: 0.057 s.\n",
      "The maximum number of function evaluations is exceeded.\n",
      "Number of iterations: 20, function evaluations: 48, CG iterations: 20, optimality: 7.85e-04, constraint violation: 0.00e+00, execution time: 0.051 s.\n",
      "The maximum number of function evaluations is exceeded.\n",
      "Number of iterations: 20, function evaluations: 48, CG iterations: 25, optimality: 1.79e-04, constraint violation: 0.00e+00, execution time: 0.051 s.\n",
      "|  25   |  125  |  42   | -1.0556e+06 | 7.91e-02 | 3.12e+06 | 6.21e-04 |\n",
      "The maximum number of function evaluations is exceeded.\n",
      "Number of iterations: 20, function evaluations: 36, CG iterations: 17, optimality: 1.26e-07, constraint violation: 0.00e+00, execution time: 0.052 s.\n",
      "The maximum number of function evaluations is exceeded.\n",
      "Number of iterations: 20, function evaluations: 36, CG iterations: 17, optimality: 1.26e-07, constraint violation: 0.00e+00, execution time: 0.049 s.\n",
      "The maximum number of function evaluations is exceeded.\n",
      "Number of iterations: 20, function evaluations: 45, CG iterations: 22, optimality: 1.42e-04, constraint violation: 0.00e+00, execution time: 0.05 s.\n",
      "The maximum number of function evaluations is exceeded.\n",
      "Number of iterations: 20, function evaluations: 36, CG iterations: 17, optimality: 1.26e-07, constraint violation: 0.00e+00, execution time: 0.055 s.\n",
      "The maximum number of function evaluations is exceeded.\n",
      "Number of iterations: 20, function evaluations: 36, CG iterations: 17, optimality: 1.26e-07, constraint violation: 0.00e+00, execution time: 0.051 s.\n",
      "|  26   |  130  |  43   | -1.0571e+06 | 4.43e-01 | 1.71e+06 | 9.40e-04 |\n",
      "The maximum number of function evaluations is exceeded.\n",
      "Number of iterations: 20, function evaluations: 45, CG iterations: 18, optimality: 4.19e-04, constraint violation: 0.00e+00, execution time: 0.05 s.\n",
      "The maximum number of function evaluations is exceeded.\n",
      "Number of iterations: 20, function evaluations: 48, CG iterations: 23, optimality: 3.56e-04, constraint violation: 0.00e+00, execution time: 0.044 s.\n",
      "The maximum number of function evaluations is exceeded.\n",
      "Number of iterations: 20, function evaluations: 48, CG iterations: 22, optimality: 3.56e-04, constraint violation: 0.00e+00, execution time: 0.05 s.\n",
      "The maximum number of function evaluations is exceeded.\n",
      "Number of iterations: 20, function evaluations: 39, CG iterations: 21, optimality: 3.56e-04, constraint violation: 0.00e+00, execution time: 0.045 s.\n",
      "The maximum number of function evaluations is exceeded.\n",
      "Number of iterations: 20, function evaluations: 48, CG iterations: 23, optimality: 3.56e-04, constraint violation: 0.00e+00, execution time: 0.049 s.\n",
      "|  27   |  135  |  46   | -1.0491e+06 | 2.63e+00 | 4.39e+06 | 2.40e-03 |\n",
      "The maximum number of function evaluations is exceeded.\n",
      "Number of iterations: 20, function evaluations: 45, CG iterations: 24, optimality: 1.79e-04, constraint violation: 0.00e+00, execution time: 0.052 s.\n",
      "The maximum number of function evaluations is exceeded.\n",
      "Number of iterations: 20, function evaluations: 45, CG iterations: 21, optimality: 8.30e-04, constraint violation: 0.00e+00, execution time: 0.05 s.\n",
      "The maximum number of function evaluations is exceeded.\n",
      "Number of iterations: 20, function evaluations: 48, CG iterations: 19, optimality: 8.30e-04, constraint violation: 0.00e+00, execution time: 0.049 s.\n",
      "The maximum number of function evaluations is exceeded.\n",
      "Number of iterations: 20, function evaluations: 36, CG iterations: 16, optimality: 1.26e-07, constraint violation: 0.00e+00, execution time: 0.05 s.\n",
      "The maximum number of function evaluations is exceeded.\n",
      "Number of iterations: 20, function evaluations: 45, CG iterations: 21, optimality: 8.30e-04, constraint violation: 0.00e+00, execution time: 0.047 s.\n",
      "|  28   |  140  |  49   | -9.5232e+05 | 1.15e+01 | 6.50e+04 | 0.00e+00 |\n",
      "The maximum number of function evaluations is exceeded.\n",
      "Number of iterations: 20, function evaluations: 33, CG iterations: 16, optimality: 2.53e-08, constraint violation: 0.00e+00, execution time: 0.052 s.\n",
      "The maximum number of function evaluations is exceeded.\n",
      "Number of iterations: 20, function evaluations: 33, CG iterations: 16, optimality: 2.53e-08, constraint violation: 0.00e+00, execution time: 0.056 s.\n",
      "The maximum number of function evaluations is exceeded.\n",
      "Number of iterations: 20, function evaluations: 39, CG iterations: 21, optimality: 1.42e-03, constraint violation: 0.00e+00, execution time: 0.046 s.\n",
      "The maximum number of function evaluations is exceeded.\n",
      "Number of iterations: 20, function evaluations: 39, CG iterations: 26, optimality: 8.31e-04, constraint violation: 0.00e+00, execution time: 0.047 s.\n",
      "The maximum number of function evaluations is exceeded.\n",
      "Number of iterations: 20, function evaluations: 33, CG iterations: 16, optimality: 2.53e-08, constraint violation: 0.00e+00, execution time: 0.051 s.\n",
      "|  29   |  145  |  52   | -9.6174e+05 | 1.15e+01 | 6.70e+04 | 2.22e-16 |\n",
      "The maximum number of function evaluations is exceeded.\n",
      "Number of iterations: 20, function evaluations: 48, CG iterations: 21, optimality: 1.91e-04, constraint violation: 0.00e+00, execution time: 0.049 s.\n",
      "The maximum number of function evaluations is exceeded.\n",
      "Number of iterations: 20, function evaluations: 45, CG iterations: 21, optimality: 2.08e-04, constraint violation: 0.00e+00, execution time: 0.044 s.\n",
      "The maximum number of function evaluations is exceeded.\n",
      "Number of iterations: 20, function evaluations: 36, CG iterations: 16, optimality: 1.26e-07, constraint violation: 0.00e+00, execution time: 0.053 s.\n",
      "The maximum number of function evaluations is exceeded.\n",
      "Number of iterations: 20, function evaluations: 36, CG iterations: 19, optimality: 2.57e-04, constraint violation: 0.00e+00, execution time: 0.045 s.\n",
      "The maximum number of function evaluations is exceeded.\n",
      "Number of iterations: 20, function evaluations: 45, CG iterations: 21, optimality: 2.08e-04, constraint violation: 0.00e+00, execution time: 0.045 s.\n",
      "|  30   |  150  |  55   | -1.0213e+06 | 1.15e+01 | 9.75e+04 | 5.16e-12 |\n",
      "The maximum number of function evaluations is exceeded.\n",
      "Number of iterations: 20, function evaluations: 45, CG iterations: 21, optimality: 9.63e-05, constraint violation: 0.00e+00, execution time: 0.046 s.\n",
      "The maximum number of function evaluations is exceeded.\n",
      "Number of iterations: 20, function evaluations: 45, CG iterations: 21, optimality: 9.63e-05, constraint violation: 0.00e+00, execution time: 0.046 s.\n",
      "The maximum number of function evaluations is exceeded.\n",
      "Number of iterations: 20, function evaluations: 33, CG iterations: 14, optimality: 2.53e-08, constraint violation: 0.00e+00, execution time: 0.051 s.\n",
      "The maximum number of function evaluations is exceeded.\n",
      "Number of iterations: 20, function evaluations: 36, CG iterations: 18, optimality: 2.08e-04, constraint violation: 0.00e+00, execution time: 0.045 s.\n",
      "The maximum number of function evaluations is exceeded.\n",
      "Number of iterations: 20, function evaluations: 45, CG iterations: 21, optimality: 9.63e-05, constraint violation: 0.00e+00, execution time: 0.047 s.\n",
      "|  31   |  155  |  56   | -1.0213e+06 | 1.15e+01 | 9.75e+04 | 2.22e-16 |\n",
      "The maximum number of function evaluations is exceeded.\n",
      "Number of iterations: 20, function evaluations: 36, CG iterations: 18, optimality: 1.26e-07, constraint violation: 0.00e+00, execution time: 0.053 s.\n",
      "The maximum number of function evaluations is exceeded.\n",
      "Number of iterations: 20, function evaluations: 45, CG iterations: 20, optimality: 2.03e-04, constraint violation: 0.00e+00, execution time: 0.051 s.\n",
      "The maximum number of function evaluations is exceeded.\n",
      "Number of iterations: 20, function evaluations: 45, CG iterations: 21, optimality: 9.35e-05, constraint violation: 0.00e+00, execution time: 0.055 s.\n"
     ]
    },
    {
     "name": "stdout",
     "output_type": "stream",
     "text": [
      "The maximum number of function evaluations is exceeded.\n",
      "Number of iterations: 20, function evaluations: 45, CG iterations: 23, optimality: 1.58e-05, constraint violation: 0.00e+00, execution time: 0.054 s.\n",
      "The maximum number of function evaluations is exceeded.\n",
      "Number of iterations: 20, function evaluations: 45, CG iterations: 20, optimality: 2.03e-04, constraint violation: 0.00e+00, execution time: 0.051 s.\n",
      "|  32   |  160  |  59   | -1.0304e+06 | 1.15e+01 | 9.85e+04 | 1.11e-15 |\n",
      "The maximum number of function evaluations is exceeded.\n",
      "Number of iterations: 20, function evaluations: 48, CG iterations: 25, optimality: 4.30e-04, constraint violation: 0.00e+00, execution time: 0.057 s.\n",
      "The maximum number of function evaluations is exceeded.\n",
      "Number of iterations: 20, function evaluations: 36, CG iterations: 17, optimality: 1.21e-07, constraint violation: 0.00e+00, execution time: 0.057 s.\n",
      "The maximum number of function evaluations is exceeded.\n",
      "Number of iterations: 20, function evaluations: 33, CG iterations: 16, optimality: 2.42e-08, constraint violation: 0.00e+00, execution time: 0.057 s.\n",
      "The maximum number of function evaluations is exceeded.\n",
      "Number of iterations: 20, function evaluations: 45, CG iterations: 20, optimality: 1.53e-04, constraint violation: 0.00e+00, execution time: 0.047 s.\n",
      "The maximum number of function evaluations is exceeded.\n",
      "Number of iterations: 20, function evaluations: 36, CG iterations: 17, optimality: 1.21e-07, constraint violation: 0.00e+00, execution time: 0.064 s.\n",
      "|  33   |  165  |  62   | -1.0901e+06 | 1.15e+01 | 9.58e+04 | 2.22e-16 |\n",
      "The maximum number of function evaluations is exceeded.\n",
      "Number of iterations: 20, function evaluations: 39, CG iterations: 19, optimality: 6.04e-07, constraint violation: 0.00e+00, execution time: 0.052 s.\n",
      "The maximum number of function evaluations is exceeded.\n",
      "Number of iterations: 20, function evaluations: 39, CG iterations: 19, optimality: 6.04e-07, constraint violation: 0.00e+00, execution time: 0.059 s.\n",
      "The maximum number of function evaluations is exceeded.\n",
      "Number of iterations: 20, function evaluations: 39, CG iterations: 20, optimality: 6.04e-07, constraint violation: 0.00e+00, execution time: 0.054 s.\n",
      "The maximum number of function evaluations is exceeded.\n",
      "Number of iterations: 20, function evaluations: 36, CG iterations: 18, optimality: 1.21e-07, constraint violation: 0.00e+00, execution time: 0.056 s.\n",
      "The maximum number of function evaluations is exceeded.\n",
      "Number of iterations: 20, function evaluations: 39, CG iterations: 19, optimality: 6.04e-07, constraint violation: 0.00e+00, execution time: 0.055 s.\n",
      "|  34   |  170  |  63   | -1.0901e+06 | 1.15e+01 | 9.58e+04 | 2.22e-16 |\n",
      "The maximum number of function evaluations is exceeded.\n",
      "Number of iterations: 20, function evaluations: 48, CG iterations: 27, optimality: 2.57e-04, constraint violation: 0.00e+00, execution time: 0.066 s.\n",
      "The maximum number of function evaluations is exceeded.\n",
      "Number of iterations: 20, function evaluations: 45, CG iterations: 23, optimality: 4.55e-05, constraint violation: 0.00e+00, execution time: 0.063 s.\n",
      "The maximum number of function evaluations is exceeded.\n",
      "Number of iterations: 20, function evaluations: 45, CG iterations: 23, optimality: 1.51e-04, constraint violation: 0.00e+00, execution time: 0.054 s.\n",
      "The maximum number of function evaluations is exceeded.\n",
      "Number of iterations: 20, function evaluations: 45, CG iterations: 23, optimality: 2.57e-04, constraint violation: 0.00e+00, execution time: 0.05 s.\n",
      "The maximum number of function evaluations is exceeded.\n",
      "Number of iterations: 20, function evaluations: 45, CG iterations: 23, optimality: 4.55e-05, constraint violation: 0.00e+00, execution time: 0.059 s.\n",
      "|  35   |  175  |  66   | -1.0915e+06 | 1.15e+01 | 9.42e+04 | 1.38e-14 |\n",
      "The maximum number of function evaluations is exceeded.\n",
      "Number of iterations: 20, function evaluations: 48, CG iterations: 23, optimality: 2.53e-04, constraint violation: 0.00e+00, execution time: 0.056 s.\n",
      "The maximum number of function evaluations is exceeded.\n",
      "Number of iterations: 20, function evaluations: 45, CG iterations: 21, optimality: 6.40e-04, constraint violation: 0.00e+00, execution time: 0.051 s.\n",
      "The maximum number of function evaluations is exceeded.\n",
      "Number of iterations: 20, function evaluations: 33, CG iterations: 16, optimality: 2.40e-08, constraint violation: 0.00e+00, execution time: 0.056 s.\n",
      "The maximum number of function evaluations is exceeded.\n",
      "Number of iterations: 20, function evaluations: 36, CG iterations: 18, optimality: 1.20e-07, constraint violation: 0.00e+00, execution time: 0.053 s.\n",
      "The maximum number of function evaluations is exceeded.\n",
      "Number of iterations: 20, function evaluations: 45, CG iterations: 21, optimality: 6.40e-04, constraint violation: 0.00e+00, execution time: 0.049 s.\n",
      "|  36   |  180  |  69   | -1.0919e+06 | 1.15e+01 | 9.26e+04 | 0.00e+00 |\n",
      "The maximum number of function evaluations is exceeded.\n",
      "Number of iterations: 20, function evaluations: 48, CG iterations: 22, optimality: 2.53e-04, constraint violation: 0.00e+00, execution time: 0.049 s.\n",
      "The maximum number of function evaluations is exceeded.\n",
      "Number of iterations: 20, function evaluations: 48, CG iterations: 22, optimality: 2.53e-04, constraint violation: 0.00e+00, execution time: 0.053 s.\n",
      "The maximum number of function evaluations is exceeded.\n",
      "Number of iterations: 20, function evaluations: 36, CG iterations: 16, optimality: 1.20e-07, constraint violation: 0.00e+00, execution time: 0.051 s.\n",
      "The maximum number of function evaluations is exceeded.\n",
      "Number of iterations: 20, function evaluations: 39, CG iterations: 19, optimality: 6.00e-07, constraint violation: 0.00e+00, execution time: 0.056 s.\n",
      "The maximum number of function evaluations is exceeded.\n",
      "Number of iterations: 20, function evaluations: 48, CG iterations: 22, optimality: 2.53e-04, constraint violation: 0.00e+00, execution time: 0.05 s.\n",
      "|  37   |  185  |  70   | -1.0919e+06 | 1.15e+01 | 9.26e+04 | 0.00e+00 |\n",
      "The maximum number of function evaluations is exceeded.\n",
      "Number of iterations: 20, function evaluations: 48, CG iterations: 22, optimality: 2.53e-04, constraint violation: 0.00e+00, execution time: 0.053 s.\n",
      "The maximum number of function evaluations is exceeded.\n",
      "Number of iterations: 20, function evaluations: 48, CG iterations: 22, optimality: 2.53e-04, constraint violation: 0.00e+00, execution time: 0.049 s.\n",
      "The maximum number of function evaluations is exceeded.\n",
      "Number of iterations: 20, function evaluations: 48, CG iterations: 21, optimality: 5.80e-04, constraint violation: 0.00e+00, execution time: 0.048 s.\n",
      "The maximum number of function evaluations is exceeded.\n",
      "Number of iterations: 20, function evaluations: 42, CG iterations: 23, optimality: 9.39e-05, constraint violation: 0.00e+00, execution time: 0.055 s.\n",
      "The maximum number of function evaluations is exceeded.\n",
      "Number of iterations: 20, function evaluations: 48, CG iterations: 22, optimality: 2.53e-04, constraint violation: 0.00e+00, execution time: 0.051 s.\n",
      "|  38   |  190  |  73   | -1.0919e+06 | 1.15e+01 | 9.26e+04 | 2.22e-16 |\n",
      "The maximum number of function evaluations is exceeded.\n",
      "Number of iterations: 20, function evaluations: 33, CG iterations: 18, optimality: 2.40e-08, constraint violation: 0.00e+00, execution time: 0.053 s.\n",
      "The maximum number of function evaluations is exceeded.\n",
      "Number of iterations: 20, function evaluations: 33, CG iterations: 18, optimality: 2.40e-08, constraint violation: 0.00e+00, execution time: 0.052 s.\n",
      "The maximum number of function evaluations is exceeded.\n",
      "Number of iterations: 20, function evaluations: 42, CG iterations: 22, optimality: 2.51e-04, constraint violation: 0.00e+00, execution time: 0.05 s.\n",
      "The maximum number of function evaluations is exceeded.\n",
      "Number of iterations: 20, function evaluations: 42, CG iterations: 20, optimality: 3.00e-06, constraint violation: 0.00e+00, execution time: 0.055 s.\n",
      "The maximum number of function evaluations is exceeded.\n",
      "Number of iterations: 20, function evaluations: 33, CG iterations: 18, optimality: 2.40e-08, constraint violation: 0.00e+00, execution time: 0.051 s.\n",
      "|  39   |  195  |  76   | -1.0919e+06 | 1.15e+01 | 9.23e+04 | 9.77e-15 |\n",
      "The maximum number of function evaluations is exceeded.\n",
      "Number of iterations: 20, function evaluations: 39, CG iterations: 23, optimality: 9.39e-05, constraint violation: 0.00e+00, execution time: 0.049 s.\n"
     ]
    },
    {
     "name": "stdout",
     "output_type": "stream",
     "text": [
      "The maximum number of function evaluations is exceeded.\n",
      "Number of iterations: 20, function evaluations: 39, CG iterations: 23, optimality: 9.39e-05, constraint violation: 0.00e+00, execution time: 0.054 s.\n",
      "The maximum number of function evaluations is exceeded.\n",
      "Number of iterations: 20, function evaluations: 48, CG iterations: 22, optimality: 2.51e-04, constraint violation: 0.00e+00, execution time: 0.053 s.\n",
      "The maximum number of function evaluations is exceeded.\n",
      "Number of iterations: 20, function evaluations: 48, CG iterations: 22, optimality: 2.51e-04, constraint violation: 0.00e+00, execution time: 0.056 s.\n",
      "The maximum number of function evaluations is exceeded.\n",
      "Number of iterations: 20, function evaluations: 39, CG iterations: 23, optimality: 9.39e-05, constraint violation: 0.00e+00, execution time: 0.049 s.\n",
      "The maximum number of function evaluations is exceeded.\n",
      "Number of iterations: 20, function evaluations: 36, CG iterations: 18, optimality: 1.20e-07, constraint violation: 0.00e+00, execution time: 0.054 s.\n",
      "The maximum number of function evaluations is exceeded.\n",
      "Number of iterations: 20, function evaluations: 36, CG iterations: 18, optimality: 1.20e-07, constraint violation: 0.00e+00, execution time: 0.054 s.\n",
      "The maximum number of function evaluations is exceeded.\n",
      "Number of iterations: 20, function evaluations: 48, CG iterations: 22, optimality: 2.51e-04, constraint violation: 0.00e+00, execution time: 0.06 s.\n",
      "The maximum number of function evaluations is exceeded.\n",
      "Number of iterations: 20, function evaluations: 48, CG iterations: 24, optimality: 2.51e-04, constraint violation: 0.00e+00, execution time: 0.054 s.\n",
      "The maximum number of function evaluations is exceeded.\n",
      "Number of iterations: 20, function evaluations: 36, CG iterations: 18, optimality: 1.20e-07, constraint violation: 0.00e+00, execution time: 0.054 s.\n",
      "|  40   |  205  |  79   | -1.0919e+06 | 1.15e+00 | 9.23e+04 | 9.77e-15 |\n",
      "The maximum number of function evaluations is exceeded.\n",
      "Number of iterations: 20, function evaluations: 45, CG iterations: 21, optimality: 1.48e-04, constraint violation: 0.00e+00, execution time: 0.05 s.\n",
      "The maximum number of function evaluations is exceeded.\n",
      "Number of iterations: 20, function evaluations: 45, CG iterations: 21, optimality: 1.48e-04, constraint violation: 0.00e+00, execution time: 0.053 s.\n",
      "The maximum number of function evaluations is exceeded.\n",
      "Number of iterations: 20, function evaluations: 45, CG iterations: 22, optimality: 6.64e-05, constraint violation: 0.00e+00, execution time: 0.053 s.\n",
      "The maximum number of function evaluations is exceeded.\n",
      "Number of iterations: 20, function evaluations: 42, CG iterations: 21, optimality: 3.00e-06, constraint violation: 0.00e+00, execution time: 0.056 s.\n",
      "The maximum number of function evaluations is exceeded.\n",
      "Number of iterations: 20, function evaluations: 45, CG iterations: 21, optimality: 1.48e-04, constraint violation: 0.00e+00, execution time: 0.051 s.\n",
      "The maximum number of function evaluations is exceeded.\n",
      "Number of iterations: 20, function evaluations: 45, CG iterations: 23, optimality: 1.50e-05, constraint violation: 0.00e+00, execution time: 0.059 s.\n",
      "The maximum number of function evaluations is exceeded.\n",
      "Number of iterations: 20, function evaluations: 45, CG iterations: 23, optimality: 1.50e-05, constraint violation: 0.00e+00, execution time: 0.06 s.\n",
      "The maximum number of function evaluations is exceeded.\n",
      "Number of iterations: 20, function evaluations: 45, CG iterations: 24, optimality: 1.48e-04, constraint violation: 0.00e+00, execution time: 0.056 s.\n",
      "The maximum number of function evaluations is exceeded.\n",
      "Number of iterations: 20, function evaluations: 45, CG iterations: 22, optimality: 9.39e-05, constraint violation: 0.00e+00, execution time: 0.062 s.\n",
      "The maximum number of function evaluations is exceeded.\n",
      "Number of iterations: 20, function evaluations: 45, CG iterations: 23, optimality: 1.50e-05, constraint violation: 0.00e+00, execution time: 0.062 s.\n",
      "|  41   |  215  |  82   | -1.0919e+06 | 4.78e-01 | 9.23e+04 | 9.77e-15 |\n",
      "The maximum number of function evaluations is exceeded.\n",
      "Number of iterations: 20, function evaluations: 42, CG iterations: 22, optimality: 2.51e-04, constraint violation: 0.00e+00, execution time: 0.047 s.\n",
      "The maximum number of function evaluations is exceeded.\n",
      "Number of iterations: 20, function evaluations: 42, CG iterations: 22, optimality: 2.51e-04, constraint violation: 0.00e+00, execution time: 0.047 s.\n",
      "The maximum number of function evaluations is exceeded.\n",
      "Number of iterations: 20, function evaluations: 48, CG iterations: 24, optimality: 2.51e-04, constraint violation: 0.00e+00, execution time: 0.055 s.\n",
      "The maximum number of function evaluations is exceeded.\n",
      "Number of iterations: 20, function evaluations: 45, CG iterations: 22, optimality: 5.77e-04, constraint violation: 0.00e+00, execution time: 0.053 s.\n",
      "The maximum number of function evaluations is exceeded.\n",
      "Number of iterations: 20, function evaluations: 42, CG iterations: 22, optimality: 2.51e-04, constraint violation: 0.00e+00, execution time: 0.051 s.\n",
      "|  42   |  220  |  84   | -1.1311e+06 | 3.34e+00 | 8.11e+04 | 1.11e-15 |\n",
      "The maximum number of function evaluations is exceeded.\n",
      "Number of iterations: 20, function evaluations: 39, CG iterations: 21, optimality: 3.11e-04, constraint violation: 0.00e+00, execution time: 0.053 s.\n",
      "The maximum number of function evaluations is exceeded.\n",
      "Number of iterations: 20, function evaluations: 39, CG iterations: 21, optimality: 3.11e-04, constraint violation: 0.00e+00, execution time: 0.052 s.\n",
      "The maximum number of function evaluations is exceeded.\n",
      "Number of iterations: 20, function evaluations: 39, CG iterations: 18, optimality: 6.00e-07, constraint violation: 0.00e+00, execution time: 0.054 s.\n",
      "The maximum number of function evaluations is exceeded.\n",
      "Number of iterations: 20, function evaluations: 45, CG iterations: 23, optimality: 9.39e-05, constraint violation: 0.00e+00, execution time: 0.051 s.\n",
      "The maximum number of function evaluations is exceeded.\n",
      "Number of iterations: 20, function evaluations: 39, CG iterations: 21, optimality: 3.11e-04, constraint violation: 0.00e+00, execution time: 0.046 s.\n",
      "|  43   |  225  |  87   | -1.2009e+06 | 5.68e+00 | 3.11e+04 | 3.36e-13 |\n",
      "The maximum number of function evaluations is exceeded.\n",
      "Number of iterations: 20, function evaluations: 45, CG iterations: 22, optimality: 9.95e-05, constraint violation: 0.00e+00, execution time: 0.054 s.\n",
      "The maximum number of function evaluations is exceeded.\n",
      "Number of iterations: 20, function evaluations: 45, CG iterations: 22, optimality: 9.95e-05, constraint violation: 0.00e+00, execution time: 0.058 s.\n",
      "The maximum number of function evaluations is exceeded.\n",
      "Number of iterations: 20, function evaluations: 48, CG iterations: 23, optimality: 5.78e-04, constraint violation: 0.00e+00, execution time: 0.051 s.\n",
      "The maximum number of function evaluations is exceeded.\n",
      "Number of iterations: 20, function evaluations: 42, CG iterations: 21, optimality: 3.00e-06, constraint violation: 0.00e+00, execution time: 0.053 s.\n",
      "The maximum number of function evaluations is exceeded.\n",
      "Number of iterations: 20, function evaluations: 45, CG iterations: 22, optimality: 9.95e-05, constraint violation: 0.00e+00, execution time: 0.056 s.\n",
      "|  44   |  230  |  90   | -1.2178e+06 | 5.68e+00 | 2.60e+04 | 1.46e-12 |\n",
      "The maximum number of function evaluations is exceeded.\n",
      "Number of iterations: 20, function evaluations: 48, CG iterations: 23, optimality: 2.52e-04, constraint violation: 0.00e+00, execution time: 0.053 s.\n",
      "The maximum number of function evaluations is exceeded.\n",
      "Number of iterations: 20, function evaluations: 48, CG iterations: 23, optimality: 2.52e-04, constraint violation: 0.00e+00, execution time: 0.054 s.\n",
      "The maximum number of function evaluations is exceeded.\n",
      "Number of iterations: 20, function evaluations: 51, CG iterations: 23, optimality: 6.05e-04, constraint violation: 0.00e+00, execution time: 0.05 s.\n",
      "The maximum number of function evaluations is exceeded.\n",
      "Number of iterations: 20, function evaluations: 48, CG iterations: 26, optimality: 2.76e-04, constraint violation: 0.00e+00, execution time: 0.049 s.\n",
      "The maximum number of function evaluations is exceeded.\n",
      "Number of iterations: 20, function evaluations: 48, CG iterations: 23, optimality: 2.52e-04, constraint violation: 0.00e+00, execution time: 0.054 s.\n",
      "|  45   |  235  |  93   | -1.2326e+06 | 5.68e+00 | 2.39e+04 | 1.94e-13 |\n",
      "The maximum number of function evaluations is exceeded.\n",
      "Number of iterations: 20, function evaluations: 48, CG iterations: 22, optimality: 2.52e-04, constraint violation: 0.00e+00, execution time: 0.049 s.\n",
      "The maximum number of function evaluations is exceeded.\n",
      "Number of iterations: 20, function evaluations: 48, CG iterations: 22, optimality: 2.52e-04, constraint violation: 0.00e+00, execution time: 0.05 s.\n",
      "The maximum number of function evaluations is exceeded.\n",
      "Number of iterations: 20, function evaluations: 48, CG iterations: 24, optimality: 1.79e-04, constraint violation: 0.00e+00, execution time: 0.054 s.\n",
      "The maximum number of function evaluations is exceeded.\n",
      "Number of iterations: 20, function evaluations: 45, CG iterations: 25, optimality: 9.95e-05, constraint violation: 0.00e+00, execution time: 0.052 s.\n"
     ]
    },
    {
     "name": "stdout",
     "output_type": "stream",
     "text": [
      "The maximum number of function evaluations is exceeded.\n",
      "Number of iterations: 20, function evaluations: 48, CG iterations: 22, optimality: 2.52e-04, constraint violation: 0.00e+00, execution time: 0.049 s.\n",
      "|  46   |  240  |  96   | -1.2389e+06 | 5.68e+00 | 2.18e+04 | 2.86e-13 |\n",
      "The maximum number of function evaluations is exceeded.\n",
      "Number of iterations: 20, function evaluations: 42, CG iterations: 21, optimality: 2.52e-04, constraint violation: 0.00e+00, execution time: 0.046 s.\n",
      "The maximum number of function evaluations is exceeded.\n",
      "Number of iterations: 20, function evaluations: 42, CG iterations: 21, optimality: 2.52e-04, constraint violation: 0.00e+00, execution time: 0.045 s.\n",
      "The maximum number of function evaluations is exceeded.\n",
      "Number of iterations: 20, function evaluations: 48, CG iterations: 21, optimality: 2.52e-04, constraint violation: 0.00e+00, execution time: 0.048 s.\n",
      "The maximum number of function evaluations is exceeded.\n",
      "Number of iterations: 20, function evaluations: 48, CG iterations: 23, optimality: 7.49e-05, constraint violation: 0.00e+00, execution time: 0.054 s.\n",
      "The maximum number of function evaluations is exceeded.\n",
      "Number of iterations: 20, function evaluations: 42, CG iterations: 21, optimality: 2.52e-04, constraint violation: 0.00e+00, execution time: 0.047 s.\n",
      "|  47   |  245  |  99   | -1.2408e+06 | 5.68e+00 | 2.02e+04 | 6.99e-13 |\n",
      "The maximum number of function evaluations is exceeded.\n",
      "Number of iterations: 20, function evaluations: 48, CG iterations: 23, optimality: 2.52e-04, constraint violation: 0.00e+00, execution time: 0.07 s.\n",
      "The maximum number of function evaluations is exceeded.\n",
      "Number of iterations: 20, function evaluations: 48, CG iterations: 23, optimality: 2.52e-04, constraint violation: 0.00e+00, execution time: 0.054 s.\n",
      "The maximum number of function evaluations is exceeded.\n",
      "Number of iterations: 20, function evaluations: 36, CG iterations: 18, optimality: 1.20e-07, constraint violation: 0.00e+00, execution time: 0.054 s.\n",
      "The maximum number of function evaluations is exceeded.\n",
      "Number of iterations: 20, function evaluations: 45, CG iterations: 22, optimality: 9.39e-05, constraint violation: 0.00e+00, execution time: 0.058 s.\n",
      "The maximum number of function evaluations is exceeded.\n",
      "Number of iterations: 20, function evaluations: 48, CG iterations: 23, optimality: 2.52e-04, constraint violation: 0.00e+00, execution time: 0.053 s.\n",
      "|  48   |  250  |  102  | -1.2413e+06 | 5.68e+00 | 1.93e+04 | 2.01e-13 |\n",
      "The maximum number of function evaluations is exceeded.\n",
      "Number of iterations: 20, function evaluations: 48, CG iterations: 24, optimality: 2.52e-04, constraint violation: 0.00e+00, execution time: 0.053 s.\n",
      "The maximum number of function evaluations is exceeded.\n",
      "Number of iterations: 20, function evaluations: 48, CG iterations: 24, optimality: 2.52e-04, constraint violation: 0.00e+00, execution time: 0.053 s.\n",
      "The maximum number of function evaluations is exceeded.\n",
      "Number of iterations: 20, function evaluations: 48, CG iterations: 25, optimality: 1.79e-04, constraint violation: 0.00e+00, execution time: 0.057 s.\n",
      "The maximum number of function evaluations is exceeded.\n",
      "Number of iterations: 20, function evaluations: 42, CG iterations: 21, optimality: 3.00e-06, constraint violation: 0.00e+00, execution time: 0.057 s.\n",
      "The maximum number of function evaluations is exceeded.\n",
      "Number of iterations: 20, function evaluations: 48, CG iterations: 24, optimality: 2.52e-04, constraint violation: 0.00e+00, execution time: 0.056 s.\n",
      "|  49   |  255  |  105  | -1.2414e+06 | 5.73e+00 | 1.88e+04 | 1.33e-13 |\n",
      "The maximum number of function evaluations is exceeded.\n",
      "Number of iterations: 20, function evaluations: 48, CG iterations: 26, optimality: 2.76e-04, constraint violation: 0.00e+00, execution time: 0.048 s.\n",
      "The maximum number of function evaluations is exceeded.\n",
      "Number of iterations: 20, function evaluations: 48, CG iterations: 26, optimality: 2.76e-04, constraint violation: 0.00e+00, execution time: 0.054 s.\n",
      "The maximum number of function evaluations is exceeded.\n",
      "Number of iterations: 20, function evaluations: 39, CG iterations: 20, optimality: 5.99e-07, constraint violation: 0.00e+00, execution time: 0.054 s.\n",
      "The maximum number of function evaluations is exceeded.\n",
      "Number of iterations: 20, function evaluations: 48, CG iterations: 25, optimality: 2.76e-04, constraint violation: 0.00e+00, execution time: 0.054 s.\n",
      "The maximum number of function evaluations is exceeded.\n",
      "Number of iterations: 20, function evaluations: 48, CG iterations: 26, optimality: 2.76e-04, constraint violation: 0.00e+00, execution time: 0.049 s.\n",
      "|  50   |  260  |  107  | -1.2414e+06 | 5.73e+00 | 1.86e+04 | 2.44e-15 |\n",
      "\n",
      "The maximum number of function evaluations is exceeded.\n",
      "Number of iterations: 50, function evaluations: 260, CG iterations: 107, optimality: 1.86e+04, constraint violation: 2.44e-15, execution time: 1.3e+01 s.\n"
     ]
    }
   ],
   "source": [
    "history = []\n",
    "starttime = time.time()\n",
    "args = {'const':const, 'xres':[1,1]}\n",
    "result_bi = minimize(bi_upper_level, xdes, method='trust-constr', bounds = xdb, constraints =constraints_des, args = args, callback=callbackF, options={'maxiter':50, 'verbose':2})\n",
    "#, hess= lambda x,y: [0,0,0,0]\n",
    "time_bi = time.time() - starttime\n",
    "bi_history = history"
   ]
  },
  {
   "cell_type": "code",
   "execution_count": 18,
   "metadata": {},
   "outputs": [
    {
     "data": {
      "text/plain": [
       "13.757973909378052"
      ]
     },
     "execution_count": 18,
     "metadata": {},
     "output_type": "execute_result"
    }
   ],
   "source": [
    "time_bi"
   ]
  },
  {
   "cell_type": "code",
   "execution_count": 19,
   "metadata": {},
   "outputs": [],
   "source": [
    "times_bi = np.linspace(0,1,len(bi_history))*time_bi"
   ]
  },
  {
   "cell_type": "markdown",
   "metadata": {},
   "source": [
    "<h3 align=\"center\">Alternating Architecture(s)</h3> \n",
    "\n",
    "![Alternating Architecture](alternating.png)\n",
    "\n",
    "In the alternating architecture, the optimization of the resilience model and the optimization of hte design model alternate until the overall design is converged due to lack of improvement (or some other criteria is met)."
   ]
  },
  {
   "cell_type": "code",
   "execution_count": 20,
   "metadata": {},
   "outputs": [],
   "source": [
    "def alternating(x_init, const, constraints_des, res_inc=True, max_iters=100, ftol = 1e4):\n",
    "    xdes = x_init[0:4]\n",
    "    xres = x_init[4:]\n",
    "    xdb = ((0,100),(0,100),(0,100),(0,100))\n",
    "    xrb = ((1e-6,100), (1e-6,100))\n",
    "    fval =1e100\n",
    "    fhist=[]\n",
    "    for i in range(max_iters):\n",
    "        if res_inc:     result_d = minimize(x_to_totcost_alt, xdes, method='trust-constr', bounds = xdb, constraints =constraints_des, args = (xres,const),options={'maxiter':100})\n",
    "        else:           result_d = minimize(des_cost, xdes, method='trust-constr', bounds = xdb, constraints =constraints_des, args = const,options={'maxiter':100})\n",
    "        xdes = result_d['x']\n",
    "        result_r = minimize(res_cost, xres, method='trust-constr', bounds = xrb, args = (xdes, const),options={'maxiter':100})\n",
    "        xres = result_r['x']\n",
    "        oldfval = fval\n",
    "        fval = des_cost(result_d['x'], const) + result_r['fun']\n",
    "        fhist=fhist+[fval]\n",
    "        if oldfval - fval > ftol: continue\n",
    "        else:                    break\n",
    "    return xdes,xres, fval, fhist\n",
    "def x_to_totcost_alt(xdes,xres, const):\n",
    "    return des_cost(xdes, const) + res_cost(xres,xdes, const)"
   ]
  },
  {
   "cell_type": "markdown",
   "metadata": {},
   "source": [
    "The alternating structure can be run with/without the resilience cost in the upper level. Below we use the resilience costs:"
   ]
  },
  {
   "cell_type": "code",
   "execution_count": 21,
   "metadata": {},
   "outputs": [],
   "source": [
    "starttime = time.time()\n",
    "xdes_with,xres_with, fval_with, history_alt_with = alternating(x, const, constraints_des)\n",
    "time_alt_with = time.time()-starttime"
   ]
  },
  {
   "cell_type": "code",
   "execution_count": 22,
   "metadata": {},
   "outputs": [
    {
     "data": {
      "text/plain": [
       "0.9574427604675293"
      ]
     },
     "execution_count": 22,
     "metadata": {},
     "output_type": "execute_result"
    }
   ],
   "source": [
    "time_alt_with"
   ]
  },
  {
   "cell_type": "code",
   "execution_count": 23,
   "metadata": {},
   "outputs": [
    {
     "data": {
      "text/plain": [
       "-1257428.524174711"
      ]
     },
     "execution_count": 23,
     "metadata": {},
     "output_type": "execute_result"
    }
   ],
   "source": [
    "fval_with"
   ]
  },
  {
   "cell_type": "code",
   "execution_count": 24,
   "metadata": {},
   "outputs": [],
   "source": [
    "times_with = np.linspace(0,1,len(history_alt_with))*time_alt_with"
   ]
  },
  {
   "cell_type": "markdown",
   "metadata": {},
   "source": [
    "Finally, with no resilience costs:"
   ]
  },
  {
   "cell_type": "code",
   "execution_count": 25,
   "metadata": {},
   "outputs": [],
   "source": [
    "starttime = time.time()\n",
    "xdes_without,xres_without, fval_without, history_alt_without = alternating(x, const, constraints_des, res_inc=False)\n",
    "time_alt_without = time.time()-starttime"
   ]
  },
  {
   "cell_type": "code",
   "execution_count": 26,
   "metadata": {},
   "outputs": [
    {
     "data": {
      "text/plain": [
       "0.5277693271636963"
      ]
     },
     "execution_count": 26,
     "metadata": {},
     "output_type": "execute_result"
    }
   ],
   "source": [
    "time_alt_without"
   ]
  },
  {
   "cell_type": "code",
   "execution_count": 27,
   "metadata": {},
   "outputs": [
    {
     "data": {
      "text/plain": [
       "405936352419.8087"
      ]
     },
     "execution_count": 27,
     "metadata": {},
     "output_type": "execute_result"
    }
   ],
   "source": [
    "fval_without"
   ]
  },
  {
   "cell_type": "code",
   "execution_count": 28,
   "metadata": {},
   "outputs": [],
   "source": [
    "times_without = np.linspace(0,1,len(history_alt_without))*time_alt_without"
   ]
  },
  {
   "cell_type": "markdown",
   "metadata": {},
   "source": [
    "The sequential architecture is a variant of the bilevel architecture where the optimization is only run for one iteration:"
   ]
  },
  {
   "cell_type": "code",
   "execution_count": 29,
   "metadata": {},
   "outputs": [],
   "source": [
    "starttime = time.time()\n",
    "xdes_swithout,xres_swithout, fval_swithout, history_alt_swithout = alternating(x, const, constraints_des, res_inc=False,max_iters=1)\n",
    "time_swithout = time.time()-starttime"
   ]
  },
  {
   "cell_type": "code",
   "execution_count": 30,
   "metadata": {},
   "outputs": [],
   "source": [
    "starttime = time.time()\n",
    "xdes_swith,xres_swith, fval_swith, history_alt_swith = alternating(x, const, constraints_des,max_iters=1)\n",
    "time_swith = time.time()-starttime"
   ]
  },
  {
   "cell_type": "code",
   "execution_count": null,
   "metadata": {},
   "outputs": [],
   "source": []
  },
  {
   "cell_type": "code",
   "execution_count": 31,
   "metadata": {},
   "outputs": [],
   "source": [
    "#plt.subplot(211)\n",
    "\n",
    "#ax1=plt.subplot(2, 2, 1)\n",
    "#plt.plot(times_aao[0:10], aao_history[0:10])\n",
    "#plt.plot(times_bi[0:10], bi_history[0:10])\n",
    "\n",
    "#ax2 = plt.subplot(2, 2, 2)\n",
    "#plt.plot(times_aao[10:], aao_history[10:])\n",
    "#plt.plot(times_bi[10:], bi_history[10:])\n",
    "#plt.suptitle(\"Optimization of Notional System over time\")\n",
    "#plt.legend(\"All at once\", \"Bilevel\")"
   ]
  },
  {
   "cell_type": "markdown",
   "metadata": {},
   "source": [
    "Below, the architectures are compared in terms of their results. As shown, in this comparison, the bilevel approach approaches a lower minimum, though it takes more time to find the minimum than the all-at-once structure. However, this is only after the constraint iteration causes it to restart its descent (may need to debug/try different constraint parameters/different starting points to avoid this affecting the comparison)."
   ]
  },
  {
   "cell_type": "code",
   "execution_count": 40,
   "metadata": {},
   "outputs": [
    {
     "data": {
      "image/png": "[encoded data removed]",
      "text/plain": [
       "<Figure size 432x288 with 1 Axes>"
      ]
     },
     "metadata": {
      "needs_background": "light"
     },
     "output_type": "display_data"
    }
   ],
   "source": [
    "plt.plot(times_aao, aao_history, label=\"AAO\")\n",
    "plt.plot(times_bi, bi_history, label=\"Bilevel\")\n",
    "plt.plot(times_without, history_alt_without, label=\"Alt.  (no $C_R$)\")\n",
    "plt.plot(times_with, history_alt_with, label=\"Alt. (with $C_R$)\")\n",
    "plt.ylim(-1e7,2e7)\n",
    "plt.ylim(-1e7,1e13)\n",
    "plt.ylabel(\"Overall Cost $C_D + C_R$\")\n",
    "plt.xlabel(\"Computational Time\")\n",
    "plt.yscale(\"symlog\")\n",
    "plt.xscale(\"log\")\n",
    "plt.grid()\n",
    "plt.legend()\n",
    "plt.title(\"Comparison of Optimization Architectures\")\n",
    "fig = plt.gcf()"
   ]
  },
  {
   "cell_type": "code",
   "execution_count": 41,
   "metadata": {},
   "outputs": [],
   "source": [
    "fig.savefig('notional_comparison.pdf', format=\"pdf\", bbox_inches = 'tight', pad_inches = 0.0)"
   ]
  },
  {
   "cell_type": "code",
   "execution_count": 42,
   "metadata": {},
   "outputs": [],
   "source": [
    "tab = pd.DataFrame(columns = [\"$x_p$\", \"$x_a$\", \"$x_r$\", \"$x_s$\", \"$x_b$\", \"$x_c$\", \"$f^*$\", \"time\"])\n",
    "tab.loc['All-at-Once'] = list(result_aao['x'])+[result_aao['fun'], time_aao]\n",
    "tab.loc['Bilevel'] = list(result_bi['x']) + list(args['xres']) +  [result_bi['fun'], time_bi]\n",
    "tab.loc['Alternating (No $C_R$)'] = list(xdes_without) + list(xres_without) + [fval_without, time_alt_without]\n",
    "tab.loc['Alternating (With $C_R$)'] = list(xdes_with) + list(xres_with) + [fval_with, time_alt_with]\n",
    "tab.loc['Seq. (With $C_R$)'] = list(xdes_swith) + list(xres_swith) + [fval_swith, time_swith]\n",
    "tab.loc['Seq. (No $C_R$)'] = list(xdes_swithout) + list(xres_swithout) + [fval_swithout, time_swithout]"
   ]
  },
  {
   "cell_type": "code",
   "execution_count": 43,
   "metadata": {},
   "outputs": [
    {
     "data": {
      "text/html": [
       "<div>\n",
       "<style scoped>\n",
       "    .dataframe tbody tr th:only-of-type {\n",
       "        vertical-align: middle;\n",
       "    }\n",
       "\n",
       "    .dataframe tbody tr th {\n",
       "        vertical-align: top;\n",
       "    }\n",
       "\n",
       "    .dataframe thead th {\n",
       "        text-align: right;\n",
       "    }\n",
       "</style>\n",
       "<table border=\"1\" class=\"dataframe\">\n",
       "  <thead>\n",
       "    <tr style=\"text-align: right;\">\n",
       "      <th></th>\n",
       "      <th>$x_p$</th>\n",
       "      <th>$x_a$</th>\n",
       "      <th>$x_r$</th>\n",
       "      <th>$x_s$</th>\n",
       "      <th>$x_b$</th>\n",
       "      <th>$x_c$</th>\n",
       "      <th>$f^*$</th>\n",
       "      <th>time</th>\n",
       "    </tr>\n",
       "  </thead>\n",
       "  <tbody>\n",
       "    <tr>\n",
       "      <th>All-at-Once</th>\n",
       "      <td>1.464238</td>\n",
       "      <td>1.055952</td>\n",
       "      <td>0.002155</td>\n",
       "      <td>0.408286</td>\n",
       "      <td>0.615471</td>\n",
       "      <td>10.0</td>\n",
       "      <td>-1.257429e+06</td>\n",
       "      <td>0.505356</td>\n",
       "    </tr>\n",
       "    <tr>\n",
       "      <th>Bilevel</th>\n",
       "      <td>1.493964</td>\n",
       "      <td>0.796485</td>\n",
       "      <td>0.002440</td>\n",
       "      <td>0.697480</td>\n",
       "      <td>0.708665</td>\n",
       "      <td>10.0</td>\n",
       "      <td>-1.241398e+06</td>\n",
       "      <td>13.757974</td>\n",
       "    </tr>\n",
       "    <tr>\n",
       "      <th>Alternating (No $C_R$)</th>\n",
       "      <td>100.000000</td>\n",
       "      <td>80.060002</td>\n",
       "      <td>99.997182</td>\n",
       "      <td>19.939998</td>\n",
       "      <td>0.070684</td>\n",
       "      <td>10.0</td>\n",
       "      <td>4.059364e+11</td>\n",
       "      <td>0.527769</td>\n",
       "    </tr>\n",
       "    <tr>\n",
       "      <th>Alternating (With $C_R$)</th>\n",
       "      <td>1.464239</td>\n",
       "      <td>1.055941</td>\n",
       "      <td>0.002155</td>\n",
       "      <td>0.408298</td>\n",
       "      <td>0.615475</td>\n",
       "      <td>10.0</td>\n",
       "      <td>-1.257429e+06</td>\n",
       "      <td>0.957443</td>\n",
       "    </tr>\n",
       "    <tr>\n",
       "      <th>Seq. (With $C_R$)</th>\n",
       "      <td>1.287236</td>\n",
       "      <td>0.779528</td>\n",
       "      <td>0.000825</td>\n",
       "      <td>0.507709</td>\n",
       "      <td>0.716332</td>\n",
       "      <td>10.0</td>\n",
       "      <td>-1.169640e+06</td>\n",
       "      <td>0.369015</td>\n",
       "    </tr>\n",
       "    <tr>\n",
       "      <th>Seq. (No $C_R$)</th>\n",
       "      <td>100.000000</td>\n",
       "      <td>80.060002</td>\n",
       "      <td>99.986592</td>\n",
       "      <td>19.939998</td>\n",
       "      <td>0.070684</td>\n",
       "      <td>10.0</td>\n",
       "      <td>4.058934e+11</td>\n",
       "      <td>0.259000</td>\n",
       "    </tr>\n",
       "  </tbody>\n",
       "</table>\n",
       "</div>"
      ],
      "text/plain": [
       "                               $x_p$      $x_a$      $x_r$      $x_s$  \\\n",
       "All-at-Once                 1.464238   1.055952   0.002155   0.408286   \n",
       "Bilevel                     1.493964   0.796485   0.002440   0.697480   \n",
       "Alternating (No $C_R$)    100.000000  80.060002  99.997182  19.939998   \n",
       "Alternating (With $C_R$)    1.464239   1.055941   0.002155   0.408298   \n",
       "Seq. (With $C_R$)           1.287236   0.779528   0.000825   0.507709   \n",
       "Seq. (No $C_R$)           100.000000  80.060002  99.986592  19.939998   \n",
       "\n",
       "                             $x_b$  $x_c$         $f^*$       time  \n",
       "All-at-Once               0.615471   10.0 -1.257429e+06   0.505356  \n",
       "Bilevel                   0.708665   10.0 -1.241398e+06  13.757974  \n",
       "Alternating (No $C_R$)    0.070684   10.0  4.059364e+11   0.527769  \n",
       "Alternating (With $C_R$)  0.615475   10.0 -1.257429e+06   0.957443  \n",
       "Seq. (With $C_R$)         0.716332   10.0 -1.169640e+06   0.369015  \n",
       "Seq. (No $C_R$)           0.070684   10.0  4.058934e+11   0.259000  "
      ]
     },
     "execution_count": 43,
     "metadata": {},
     "output_type": "execute_result"
    }
   ],
   "source": [
    "tab"
   ]
  },
  {
   "cell_type": "code",
   "execution_count": 44,
   "metadata": {},
   "outputs": [
    {
     "name": "stdout",
     "output_type": "stream",
     "text": [
      "\\begin{tabular}{lrrrrrrrr}\n",
      "\\toprule\n",
      "{} &  \\$x\\_p\\$ &  \\$x\\_a\\$ &   \\$x\\_r\\$ &  \\$x\\_s\\$ &  \\$x\\_b\\$ &  \\$x\\_c\\$ &    \\$f\\textasciicircum *\\$ &  time \\\\\n",
      "\\midrule\n",
      "All-at-Once              &    1.5 &    1.1 &  0.0022 &   0.41 &   0.62 &     10 & -1.3e+06 &  0.51 \\\\\n",
      "Bilevel                  &    1.5 &    0.8 &  0.0024 &    0.7 &   0.71 &     10 & -1.2e+06 &    14 \\\\\n",
      "Alternating (No \\$C\\_R\\$)   &  1e+02 &     80 &   1e+02 &     20 &  0.071 &     10 &  4.1e+11 &  0.53 \\\\\n",
      "Alternating (With \\$C\\_R\\$) &    1.5 &    1.1 &  0.0022 &   0.41 &   0.62 &     10 & -1.3e+06 &  0.96 \\\\\n",
      "Seq. (With \\$C\\_R\\$)        &    1.3 &   0.78 & 0.00083 &   0.51 &   0.72 &     10 & -1.2e+06 &  0.37 \\\\\n",
      "Seq. (No \\$C\\_R\\$)          &  1e+02 &     80 &   1e+02 &     20 &  0.071 &     10 &  4.1e+11 &  0.26 \\\\\n",
      "\\bottomrule\n",
      "\\end{tabular}\n",
      "\n"
     ]
    }
   ],
   "source": [
    "print(tab.to_latex(float_format=\"%.2g\" ))"
   ]
  },
  {
   "cell_type": "code",
   "execution_count": null,
   "metadata": {},
   "outputs": [],
   "source": []
  }
 ],
 "metadata": {
  "kernelspec": {
   "display_name": "Python 3 (ipykernel)",
   "language": "python",
   "name": "python3"
  },
  "language_info": {
   "codemirror_mode": {
    "name": "ipython",
    "version": 3
   },
   "file_extension": ".py",
   "mimetype": "text/x-python",
   "name": "python",
   "nbconvert_exporter": "python",
   "pygments_lexer": "ipython3",
   "version": "3.9.7"
  }
 },
 "nbformat": 4,
 "nbformat_minor": 4
}

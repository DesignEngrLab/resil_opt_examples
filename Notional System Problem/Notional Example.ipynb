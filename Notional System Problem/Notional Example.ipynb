{
 "cells": [
  {
   "cell_type": "markdown",
   "metadata": {},
   "source": [
    "# Notional Example Problem\n",
    "\n",
    "An analytic problem for understanding resilience optimization structures."
   ]
  },
  {
   "cell_type": "code",
   "execution_count": 1,
   "metadata": {},
   "outputs": [],
   "source": [
    "import sys\n",
    "sys.path.append('../')\n",
    "import numpy as np\n",
    "import scipy as sp\n",
    "import time\n",
    "import itertools\n",
    "import random\n",
    "from scipy.optimize import minimize\n",
    "from scipy.optimize import NonlinearConstraint"
   ]
  },
  {
   "cell_type": "markdown",
   "metadata": {},
   "source": [
    "This problem considers different architectures to structure the optimization of resilience. In general, the resilience of a system is a function of the performance curve which results from a given hazardous scenario. Consider, for example, the curve shown below, where a fault causes the system to perform in a worse condition (given by $x_a$) for a given amount of time $x_b$, before it is recovered over a given amount of time $x_c$.\n",
    "\n",
    "<h3 align=\"center\">System Resilience to Considered Fault Scenario</h3> \n",
    "\n",
    "![Resilience of the System to Fault](notionalsystem.png)"
   ]
  },
  {
   "cell_type": "markdown",
   "metadata": {},
   "source": [
    "In an integrated resilience optimization formulation of this problem, the goal is to optimize the design/operations of the system with the resilience variables simultaneously to balance the resilience of the system with design/operational considerations. This involves (at least) two models of cost: design/operational cost and resilience cost."
   ]
  },
  {
   "cell_type": "markdown",
   "metadata": {},
   "source": [
    "## Design/Operational Cost\n",
    "\n",
    "The design model specifies the inherent resilience in the system that results from the way it was designed/is operated when there is no hazardous scenario. In this model, the variables are $x_p$, the overall performance of the system, $x_a$, the lost performance during the scenario, $x_s$, the slack in the system, and $x_r$, the hazard rate. The terms a-f and n are constants."
   ]
  },
  {
   "cell_type": "code",
   "execution_count": 6,
   "metadata": {},
   "outputs": [],
   "source": [
    "xdes = [1,1,1,1]\n",
    "xdb = ((1e-6,100),(1e-6,100),(1e-6,100),(1e-6,100))\n",
    "# xdes = [x_p, x_a, x_r, x_s]\n",
    "# index:   0    1    2    3\n",
    "# constants: [a,b,c,n,d,e,f]\n",
    "# inds:       0,1,2,3,4,5,6\n",
    "const =[1e5,1e4,1e4,10,1e6,200,500]"
   ]
  },
  {
   "cell_type": "markdown",
   "metadata": {},
   "source": [
    "The Design/Operational cost model for this system is: $C_D = -a*x_p +b*x_s + \\frac{c}{\\sqrt{x_r}}$ \n",
    "\n",
    "The terms in the cost model captures the value of having increased performance, the waste of running the system with excess slack, and the cost of maintaining the system at a certain level of reliability."
   ]
  },
  {
   "cell_type": "code",
   "execution_count": 7,
   "metadata": {},
   "outputs": [],
   "source": [
    "def des_cost(xdes,const):\n",
    "    return -const[0]*xdes[0] + const[1]*xdes[3] + const[2]/np.sqrt(max(xdes[2],1e-6))"
   ]
  },
  {
   "cell_type": "markdown",
   "metadata": {},
   "source": [
    "Subject to the equality constraint: $h_D = x_p -(x_s + x_a) = 0$, which captures the relationship between slack, performance, and lost performance during the scenario."
   ]
  },
  {
   "cell_type": "code",
   "execution_count": 3,
   "metadata": {},
   "outputs": [],
   "source": [
    "def des_h_const(xdes):\n",
    "    return xdes[0]-(xdes[3]+xdes[1])"
   ]
  },
  {
   "cell_type": "markdown",
   "metadata": {},
   "source": [
    "There is also an inequality constraint: $g_D = 10^{-x_a} - x_r$, which specifies a lower bound on how reliable the system can be when it is running with a certain amount of slack (in the specified relationship, high slack makes the system less reliable)."
   ]
  },
  {
   "cell_type": "code",
   "execution_count": 8,
   "metadata": {},
   "outputs": [],
   "source": [
    "def des_g_const(xdes):\n",
    "    return np.power(10.0, -xdes[1]) - xdes[2]"
   ]
  },
  {
   "cell_type": "markdown",
   "metadata": {},
   "source": [
    "## Resilience Model\n",
    "\n",
    "The resilience model specifies how the system performes in the hazardous scenario(s) based on variables which may be leveraged during this scenario. In this system, there are two variables--$x_b$, the length of time the system stays in the hazardous scenario before it is repaired, and $x_c$, the length of time it takes to repair the system."
   ]
  },
  {
   "cell_type": "code",
   "execution_count": 9,
   "metadata": {},
   "outputs": [],
   "source": [
    "xres = [1,  1]\n",
    "#ind:   0   1\n",
    "#full:  4   5\n",
    "#lab:   x_b,x_c\n",
    "xrb = ((1e-6,100), (1e-6,100))"
   ]
  },
  {
   "cell_type": "markdown",
   "metadata": {},
   "source": [
    "In this system, the resilience model is specified with a cost function:\n",
    "\n",
    "$C_R = $x_r*n*(d*x_a*(x_b+x_c/s + e/x_c + f/x_b))$\n",
    "\n",
    "which considers the cost as a function of the area between the nominal performance and the resilience curve (the cost of the hazard's direct consequences), along with a cost of short recovery time and a cost of short repair time (the cost of restoring the system to nominal performance at a certain speed)."
   ]
  },
  {
   "cell_type": "code",
   "execution_count": 10,
   "metadata": {},
   "outputs": [],
   "source": [
    "def res_cost(xres,xdes,const):\n",
    "    return xdes[2] * const[3] * (const[4]*xdes[1]*(xres[0]+xres[1]/2 + const[5]/max(xres[1],1e-6))+const[6]/max(xres[0],1e-6))"
   ]
  },
  {
   "cell_type": "markdown",
   "metadata": {},
   "source": [
    "## Optimization Architectures"
   ]
  },
  {
   "cell_type": "code",
   "execution_count": null,
   "metadata": {},
   "outputs": [],
   "source": []
  },
  {
   "cell_type": "code",
   "execution_count": null,
   "metadata": {},
   "outputs": [],
   "source": []
  },
  {
   "cell_type": "code",
   "execution_count": null,
   "metadata": {},
   "outputs": [],
   "source": []
  }
 ],
 "metadata": {
  "kernelspec": {
   "display_name": "Python 3",
   "language": "python",
   "name": "python3"
  },
  "language_info": {
   "codemirror_mode": {
    "name": "ipython",
    "version": 3
   },
   "file_extension": ".py",
   "mimetype": "text/x-python",
   "name": "python",
   "nbconvert_exporter": "python",
   "pygments_lexer": "ipython3",
   "version": "3.7.6"
  }
 },
 "nbformat": 4,
 "nbformat_minor": 4
}
